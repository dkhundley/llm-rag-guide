{
 "cells": [
  {
   "metadata": {},
   "cell_type": "markdown",
   "source": "# Bedrock Knowledge Base"
  },
  {
   "metadata": {
    "_uuid": "8f2839f25d086af736a60e9eeb907d3b93b6e0e5",
    "_cell_guid": "b1076dfc-b9ad-4769-8c92-a6c4dae69d19",
    "execution": {
     "iopub.status.busy": "2024-07-05T11:10:46.544385Z",
     "iopub.execute_input": "2024-07-05T11:10:46.544840Z",
     "iopub.status.idle": "2024-07-05T11:10:46.560103Z",
     "shell.execute_reply.started": "2024-07-05T11:10:46.544803Z",
     "shell.execute_reply": "2024-07-05T11:10:46.558903Z"
    },
    "trusted": false
   },
   "cell_type": "code",
   "source": "# Installing the necessary Python modules on Kaggle\nPIP_INSTALLS = [\n    'langchain',\n    'langchain-core',\n    'langchain-community',\n    'langchain-openai',\n    'ragas',\n    'boto3',\n    'botocore'\n]\n\nfrom pip_install import perform_pip_install\n# perform_pip_install(pip_installs = PIP_INSTALLS)",
   "execution_count": 1,
   "outputs": []
  },
  {
   "metadata": {
    "execution": {
     "iopub.status.busy": "2024-07-05T11:10:46.689120Z",
     "iopub.execute_input": "2024-07-05T11:10:46.689601Z",
     "iopub.status.idle": "2024-07-05T11:10:51.808765Z",
     "shell.execute_reply.started": "2024-07-05T11:10:46.689544Z",
     "shell.execute_reply": "2024-07-05T11:10:51.807300Z"
    },
    "trusted": false
   },
   "cell_type": "code",
   "source": "# Importing the necessary Python libraries\nimport os\nimport json\nimport time\nfrom datetime import date\nfrom pathlib import Path\n\nimport boto3\nimport pandas as pd\nfrom ragas.metrics import *\nfrom ragas.metrics.critique import *\nfrom botocore.exceptions import ClientError\n\nfrom load_api_keys import load_aws_creds",
   "execution_count": 2,
   "outputs": []
  },
  {
   "metadata": {
    "execution": {
     "iopub.status.busy": "2024-07-05T11:10:51.810787Z",
     "iopub.execute_input": "2024-07-05T11:10:51.811406Z",
     "iopub.status.idle": "2024-07-05T11:10:52.046731Z",
     "shell.execute_reply.started": "2024-07-05T11:10:51.811371Z",
     "shell.execute_reply": "2024-07-05T11:10:52.045634Z"
    },
    "trusted": false
   },
   "cell_type": "code",
   "source": "# Loading my personal AWS credentials from Kaggle Secrets\naws_creds = load_aws_creds()\nos.environ['AWS_ACCESS_KEY_ID'] = aws_creds['AWS_ACCESS_KEY']\nos.environ['AWS_SECRET_ACCESS_KEY'] = aws_creds['AWS_SECRET_KEY_ID']\n\n# Setting the default AWS region\nos.environ['AWS_DEFAULT_REGION'] = 'us-east-1'\nos.environ['AWS_REGION'] = 'us-east-1'",
   "execution_count": 3,
   "outputs": []
  },
  {
   "metadata": {
    "execution": {
     "iopub.status.busy": "2024-07-05T11:10:52.047997Z",
     "iopub.execute_input": "2024-07-05T11:10:52.048328Z",
     "iopub.status.idle": "2024-07-05T11:10:52.091024Z",
     "shell.execute_reply.started": "2024-07-05T11:10:52.048290Z",
     "shell.execute_reply": "2024-07-05T11:10:52.089956Z"
    },
    "trusted": false
   },
   "cell_type": "code",
   "source": "# Loading the knowledge items (KIs) as a Pandas DataFrame\ndf_kis = pd.read_csv('/kaggle/input/synthetic-it-related-knowledge-items/synthetic_knowledge_items.csv')\ndf_kis = df_kis[['ki_topic', 'ki_text']]",
   "execution_count": 4,
   "outputs": []
  },
  {
   "metadata": {
    "execution": {
     "iopub.status.busy": "2024-07-05T11:10:52.093039Z",
     "iopub.execute_input": "2024-07-05T11:10:52.093371Z",
     "iopub.status.idle": "2024-07-05T11:10:52.098321Z",
     "shell.execute_reply.started": "2024-07-05T11:10:52.093342Z",
     "shell.execute_reply": "2024-07-05T11:10:52.097037Z"
    },
    "trusted": false
   },
   "cell_type": "code",
   "source": "# Setting a prefix for any resource we create\nresource_prefix = 'bedrock-kb-for-kis'",
   "execution_count": 5,
   "outputs": []
  },
  {
   "metadata": {
    "execution": {
     "iopub.status.busy": "2024-06-29T23:26:22.217785Z",
     "iopub.execute_input": "2024-06-29T23:26:22.218201Z",
     "iopub.status.idle": "2024-06-29T23:26:22.235422Z",
     "shell.execute_reply.started": "2024-06-29T23:26:22.218170Z",
     "shell.execute_reply": "2024-06-29T23:26:22.234212Z"
    }
   },
   "cell_type": "markdown",
   "source": "## Data Preparation"
  },
  {
   "metadata": {
    "execution": {
     "iopub.status.busy": "2024-07-05T11:10:52.099673Z",
     "iopub.execute_input": "2024-07-05T11:10:52.100023Z",
     "iopub.status.idle": "2024-07-05T11:10:52.112049Z",
     "shell.execute_reply.started": "2024-07-05T11:10:52.099992Z",
     "shell.execute_reply": "2024-07-05T11:10:52.110980Z"
    },
    "trusted": false
   },
   "cell_type": "code",
   "source": "# Instantiating a directory to hold the files we'll upload to AWS\naws_files_dir = 'aws_files'\nif not os.path.isdir(aws_files_dir):\n    os.mkdir(aws_files_dir)",
   "execution_count": 6,
   "outputs": []
  },
  {
   "metadata": {
    "execution": {
     "iopub.status.busy": "2024-07-05T11:10:52.247776Z",
     "iopub.execute_input": "2024-07-05T11:10:52.248162Z",
     "iopub.status.idle": "2024-07-05T11:10:52.256099Z",
     "shell.execute_reply.started": "2024-07-05T11:10:52.248131Z",
     "shell.execute_reply": "2024-07-05T11:10:52.255045Z"
    },
    "trusted": false
   },
   "cell_type": "code",
   "source": "# Getting today's date formatted as string\n# todays_date = date.today().strftime('%Y_%m_%d')\ntodays_date = '2024_07_05'\ntodays_date",
   "execution_count": 7,
   "outputs": [
    {
     "execution_count": 7,
     "output_type": "execute_result",
     "data": {
      "text/plain": "'2024_07_05'"
     },
     "metadata": {}
    }
   ]
  },
  {
   "metadata": {
    "execution": {
     "iopub.status.busy": "2024-07-05T11:10:53.078522Z",
     "iopub.execute_input": "2024-07-05T11:10:53.078955Z",
     "iopub.status.idle": "2024-07-05T11:10:53.129986Z",
     "shell.execute_reply.started": "2024-07-05T11:10:53.078920Z",
     "shell.execute_reply": "2024-07-05T11:10:53.128564Z"
    },
    "trusted": false
   },
   "cell_type": "code",
   "source": "# Iterating over each KI in the DataFrame\nfor index, row in df_kis.iterrows():\n    \n    # Extracting the KI information from the row\n    ki_text = row['ki_text']\n    ki_topic = row['ki_topic']\n    \n    # Converting the KI topic name to be used as a filename\n    formatted_ki_topic = ki_topic.lower().replace(' ', '_')\n    ki_filename = f'{formatted_ki_topic}_{todays_date}'\n    \n    # Setting the metadata associated to the KI\n    ki_metadata = {\n        'metadataAttributes': {\n            'is_current': True,\n            'created_date': todays_date,\n            'last_updated': todays_date,\n            'ki_topic': ki_topic,\n            'department': 'information_technology'\n        }\n    }\n    \n    # Writing the KI text to a .txt file\n    if not Path(f'{aws_files_dir}/{ki_filename}.txt').is_file():\n        with open(f'{aws_files_dir}/{ki_filename}.txt', 'w') as txt_file:\n            txt_file.write(ki_text)\n    \n    # Writing the KI metadata to a .metadata.json\n    if not Path(f'{aws_files_dir}/{ki_filename}.metadata.json').is_file():\n        with open(f'{aws_files_dir}/{ki_filename}.metadata.json', 'w') as json_file:\n            json.dump(ki_metadata, json_file, indent = 4)",
   "execution_count": 8,
   "outputs": []
  },
  {
   "metadata": {
    "execution": {
     "iopub.status.busy": "2024-06-30T00:09:33.562526Z",
     "iopub.execute_input": "2024-06-30T00:09:33.563636Z",
     "iopub.status.idle": "2024-06-30T00:09:33.572365Z",
     "shell.execute_reply.started": "2024-06-30T00:09:33.563595Z",
     "shell.execute_reply": "2024-06-30T00:09:33.570961Z"
    }
   },
   "cell_type": "markdown",
   "source": "# Upload to AWS"
  },
  {
   "metadata": {
    "execution": {
     "iopub.status.busy": "2024-07-05T11:11:00.417312Z",
     "iopub.execute_input": "2024-07-05T11:11:00.417760Z",
     "iopub.status.idle": "2024-07-05T11:11:00.719417Z",
     "shell.execute_reply.started": "2024-07-05T11:11:00.417722Z",
     "shell.execute_reply": "2024-07-05T11:11:00.718283Z"
    },
    "trusted": false
   },
   "cell_type": "code",
   "source": "# Instantiating the S3 client from boto3\ns3_client = boto3.client(service_name = 's3')\n\n# Setting a name for our S3 bucket\ns3_bucket_name = 'dkhundley-ki-docs-for-bedrock-knowledge-base'",
   "execution_count": 9,
   "outputs": []
  },
  {
   "metadata": {
    "trusted": false
   },
   "cell_type": "code",
   "source": "# Creating the S3 bucket if it does not already exist\ntry:\n    s3_client.head_bucket(Bucket = s3_bucket_name)\n    print('Bucket already exists')\nexcept ClientError as e:\n    error_code = e.response['Error']['Code']\n    if error_code == '404':\n        print(f'{s3_bucket_name} does not exist. Creating...')\n        s3_client.create_bucket(Bucket = s3_bucket_name)\n    else:\n        print(f'Error checking bucket status. Error details: {e}')",
   "execution_count": null,
   "outputs": []
  },
  {
   "metadata": {
    "execution": {
     "iopub.status.busy": "2024-07-05T11:11:03.156136Z",
     "iopub.execute_input": "2024-07-05T11:11:03.156583Z",
     "iopub.status.idle": "2024-07-05T11:11:24.631080Z",
     "shell.execute_reply.started": "2024-07-05T11:11:03.156547Z",
     "shell.execute_reply": "2024-07-05T11:11:24.629914Z"
    },
    "trusted": false
   },
   "cell_type": "code",
   "source": "# Uploading each file to AWS\nfor file in os.listdir(aws_files_dir):\n    \n    # Setting the file path\n    filepath = f'{aws_files_dir}/{file}'\n    \n    # Checking to see if the file already exists in AWS\n    try:\n        s3_client.head_object(Bucket = s3_bucket_name, Key = file)\n        \n    except ClientError as e:\n        if e.response['Error']['Code'] == '404':\n            \n            # Uploading the file to S3\n            print(f'Uploading {file} to {s3_bucket_name} Bucket...')\n            s3_client.upload_file(\n                Filename = filepath,\n                Bucket = s3_bucket_name,\n                Key = file\n            )\n            print(f'{file} upload successful!')\n            ",
   "execution_count": 10,
   "outputs": [
    {
     "name": "stdout",
     "text": "Uploading troubleshooting_issues_with_skype_for_business_2024_07_05.metadata.json to dkhundley-ki-docs-for-bedrock-knowledge-base Bucket...\ntroubleshooting_issues_with_skype_for_business_2024_07_05.metadata.json upload successful!\nUploading configuring_a_network_scanner_2024_07_05.txt to dkhundley-ki-docs-for-bedrock-knowledge-base Bucket...\nconfiguring_a_network_scanner_2024_07_05.txt upload successful!\nUploading creating_a_new_it_change_request_2024_07_05.metadata.json to dkhundley-ki-docs-for-bedrock-knowledge-base Bucket...\ncreating_a_new_it_change_request_2024_07_05.metadata.json upload successful!\nUploading creating_a_new_distribution_list_in_exchange_2024_07_05.metadata.json to dkhundley-ki-docs-for-bedrock-knowledge-base Bucket...\ncreating_a_new_distribution_list_in_exchange_2024_07_05.metadata.json upload successful!\nUploading setting_up_a_new_printer_on_the_network_2024_07_05.txt to dkhundley-ki-docs-for-bedrock-knowledge-base Bucket...\nsetting_up_a_new_printer_on_the_network_2024_07_05.txt upload successful!\nUploading resetting_a_forgotten_username_2024_07_05.metadata.json to dkhundley-ki-docs-for-bedrock-knowledge-base Bucket...\nresetting_a_forgotten_username_2024_07_05.metadata.json upload successful!\nUploading resetting_a_forgotten_employee_id_2024_07_05.txt to dkhundley-ki-docs-for-bedrock-knowledge-base Bucket...\nresetting_a_forgotten_employee_id_2024_07_05.txt upload successful!\nUploading setting_up_a_conference_call_on_cisco_webex_2024_07_05.metadata.json to dkhundley-ki-docs-for-bedrock-knowledge-base Bucket...\nsetting_up_a_conference_call_on_cisco_webex_2024_07_05.metadata.json upload successful!\nUploading configuring_a_company-issued_smartphone_for_international_travel_2024_07_05.metadata.json to dkhundley-ki-docs-for-bedrock-knowledge-base Bucket...\nconfiguring_a_company-issued_smartphone_for_international_travel_2024_07_05.metadata.json upload successful!\nUploading resetting_a_computer's_dns_settings_2024_07_05.txt to dkhundley-ki-docs-for-bedrock-knowledge-base Bucket...\nresetting_a_computer's_dns_settings_2024_07_05.txt upload successful!\nUploading resetting_a_jammed_printer_2024_07_05.metadata.json to dkhundley-ki-docs-for-bedrock-knowledge-base Bucket...\nresetting_a_jammed_printer_2024_07_05.metadata.json upload successful!\nUploading setting_up_a_new_user's_account_in_concur_2024_07_05.txt to dkhundley-ki-docs-for-bedrock-knowledge-base Bucket...\nsetting_up_a_new_user's_account_in_concur_2024_07_05.txt upload successful!\nUploading troubleshooting_issues_with_a_jammed_copier_2024_07_05.metadata.json to dkhundley-ki-docs-for-bedrock-knowledge-base Bucket...\ntroubleshooting_issues_with_a_jammed_copier_2024_07_05.metadata.json upload successful!\nUploading resetting_a_computer's_dns_cache_2024_07_05.metadata.json to dkhundley-ki-docs-for-bedrock-knowledge-base Bucket...\nresetting_a_computer's_dns_cache_2024_07_05.metadata.json upload successful!\nUploading troubleshooting_issues_with_microsoft_office_2024_07_05.txt to dkhundley-ki-docs-for-bedrock-knowledge-base Bucket...\ntroubleshooting_issues_with_microsoft_office_2024_07_05.txt upload successful!\nUploading setting_up_a_new_user's_account_in_workday_2024_07_05.metadata.json to dkhundley-ki-docs-for-bedrock-knowledge-base Bucket...\nsetting_up_a_new_user's_account_in_workday_2024_07_05.metadata.json upload successful!\nUploading troubleshooting_issues_with_company-issued_hardware_2024_07_05.metadata.json to dkhundley-ki-docs-for-bedrock-knowledge-base Bucket...\ntroubleshooting_issues_with_company-issued_hardware_2024_07_05.metadata.json upload successful!\nUploading creating_a_new_it_service_request_2024_07_05.metadata.json to dkhundley-ki-docs-for-bedrock-knowledge-base Bucket...\ncreating_a_new_it_service_request_2024_07_05.metadata.json upload successful!\nUploading resetting_a_computer's_dns_cache_2024_07_05.txt to dkhundley-ki-docs-for-bedrock-knowledge-base Bucket...\nresetting_a_computer's_dns_cache_2024_07_05.txt upload successful!\nUploading troubleshooting_issues_with_company-issued_smartwatches_2024_07_05.metadata.json to dkhundley-ki-docs-for-bedrock-knowledge-base Bucket...\ntroubleshooting_issues_with_company-issued_smartwatches_2024_07_05.metadata.json upload successful!\nUploading setting_up_a_secure_connection_to_a_company-issued_server_2024_07_05.txt to dkhundley-ki-docs-for-bedrock-knowledge-base Bucket...\nsetting_up_a_secure_connection_to_a_company-issued_server_2024_07_05.txt upload successful!\nUploading creating_a_backup_of_important_files_2024_07_05.txt to dkhundley-ki-docs-for-bedrock-knowledge-base Bucket...\ncreating_a_backup_of_important_files_2024_07_05.txt upload successful!\nUploading resetting_a_computer's_dhcp_settings_2024_07_05.metadata.json to dkhundley-ki-docs-for-bedrock-knowledge-base Bucket...\nresetting_a_computer's_dhcp_settings_2024_07_05.metadata.json upload successful!\nUploading troubleshooting_issues_with_microsoft_word_2024_07_05.metadata.json to dkhundley-ki-docs-for-bedrock-knowledge-base Bucket...\ntroubleshooting_issues_with_microsoft_word_2024_07_05.metadata.json upload successful!\nUploading setting_up_a_secure_connection_to_a_company-issued_ftp_site_2024_07_05.txt to dkhundley-ki-docs-for-bedrock-knowledge-base Bucket...\nsetting_up_a_secure_connection_to_a_company-issued_ftp_site_2024_07_05.txt upload successful!\nUploading configuring_a_network_fax_machine_2024_07_05.txt to dkhundley-ki-docs-for-bedrock-knowledge-base Bucket...\nconfiguring_a_network_fax_machine_2024_07_05.txt upload successful!\nUploading creating_a_system_restore_point_2024_07_05.txt to dkhundley-ki-docs-for-bedrock-knowledge-base Bucket...\ncreating_a_system_restore_point_2024_07_05.txt upload successful!\nUploading configuring_a_company-issued_tablet_for_international_travel_2024_07_05.metadata.json to dkhundley-ki-docs-for-bedrock-knowledge-base Bucket...\nconfiguring_a_company-issued_tablet_for_international_travel_2024_07_05.metadata.json upload successful!\nUploading configuring_vpn_access_for_remote_workers_2024_07_05.metadata.json to dkhundley-ki-docs-for-bedrock-knowledge-base Bucket...\nconfiguring_vpn_access_for_remote_workers_2024_07_05.metadata.json upload successful!\nUploading troubleshooting_issues_with_java_2024_07_05.txt to dkhundley-ki-docs-for-bedrock-knowledge-base Bucket...\ntroubleshooting_issues_with_java_2024_07_05.txt upload successful!\nUploading resetting_a_forgotten_pin_2024_07_05.metadata.json to dkhundley-ki-docs-for-bedrock-knowledge-base Bucket...\nresetting_a_forgotten_pin_2024_07_05.metadata.json upload successful!\nUploading setting_up_a_new_user's_account_in_salesforce_2024_07_05.metadata.json to dkhundley-ki-docs-for-bedrock-knowledge-base Bucket...\nsetting_up_a_new_user's_account_in_salesforce_2024_07_05.metadata.json upload successful!\nUploading troubleshooting_issues_with_company-issued_software_2024_07_05.txt to dkhundley-ki-docs-for-bedrock-knowledge-base Bucket...\ntroubleshooting_issues_with_company-issued_software_2024_07_05.txt upload successful!\nUploading setting_up_a_secure_ftp_connection_2024_07_05.metadata.json to dkhundley-ki-docs-for-bedrock-knowledge-base Bucket...\nsetting_up_a_secure_ftp_connection_2024_07_05.metadata.json upload successful!\nUploading setting_up_a_secure_connection_to_a_database_server_2024_07_05.metadata.json to dkhundley-ki-docs-for-bedrock-knowledge-base Bucket...\nsetting_up_a_secure_connection_to_a_database_server_2024_07_05.metadata.json upload successful!\nUploading creating_a_new_folder_in_the_company's_file_system_2024_07_05.txt to dkhundley-ki-docs-for-bedrock-knowledge-base Bucket...\ncreating_a_new_folder_in_the_company's_file_system_2024_07_05.txt upload successful!\nUploading setting_up_a_new_user's_computer_2024_07_05.txt to dkhundley-ki-docs-for-bedrock-knowledge-base Bucket...\nsetting_up_a_new_user's_computer_2024_07_05.txt upload successful!\nUploading setting_up_a_new_printer_on_the_network_2024_07_05.metadata.json to dkhundley-ki-docs-for-bedrock-knowledge-base Bucket...\nsetting_up_a_new_printer_on_the_network_2024_07_05.metadata.json upload successful!\nUploading resetting_a_forgotten_pin_2024_07_05.txt to dkhundley-ki-docs-for-bedrock-knowledge-base Bucket...\nresetting_a_forgotten_pin_2024_07_05.txt upload successful!\nUploading setting_up_a_secure_ftp_connection_2024_07_05.txt to dkhundley-ki-docs-for-bedrock-knowledge-base Bucket...\nsetting_up_a_secure_ftp_connection_2024_07_05.txt upload successful!\nUploading resetting_a_computer's_ip_address_2024_07_05.metadata.json to dkhundley-ki-docs-for-bedrock-knowledge-base Bucket...\nresetting_a_computer's_ip_address_2024_07_05.metadata.json upload successful!\nUploading troubleshooting_issues_with_microsoft_powerpoint_2024_07_05.metadata.json to dkhundley-ki-docs-for-bedrock-knowledge-base Bucket...\ntroubleshooting_issues_with_microsoft_powerpoint_2024_07_05.metadata.json upload successful!\nUploading creating_a_new_it_problem_2024_07_05.metadata.json to dkhundley-ki-docs-for-bedrock-knowledge-base Bucket...\ncreating_a_new_it_problem_2024_07_05.metadata.json upload successful!\nUploading setting_up_a_meeting_on_microsoft_teams_2024_07_05.metadata.json to dkhundley-ki-docs-for-bedrock-knowledge-base Bucket...\nsetting_up_a_meeting_on_microsoft_teams_2024_07_05.metadata.json upload successful!\nUploading setting_up_a_new_user's_account_in_dropbox_2024_07_05.metadata.json to dkhundley-ki-docs-for-bedrock-knowledge-base Bucket...\nsetting_up_a_new_user's_account_in_dropbox_2024_07_05.metadata.json upload successful!\nUploading resetting_a_forgotten_security_question_2024_07_05.metadata.json to dkhundley-ki-docs-for-bedrock-knowledge-base Bucket...\nresetting_a_forgotten_security_question_2024_07_05.metadata.json upload successful!\nUploading configuring_a_firewall_exception_2024_07_05.txt to dkhundley-ki-docs-for-bedrock-knowledge-base Bucket...\nconfiguring_a_firewall_exception_2024_07_05.txt upload successful!\nUploading configuring_a_company-issued_device_for_accessibility_2024_07_05.metadata.json to dkhundley-ki-docs-for-bedrock-knowledge-base Bucket...\nconfiguring_a_company-issued_device_for_accessibility_2024_07_05.metadata.json upload successful!\nUploading creating_a_knowledge_base_article_2024_07_05.metadata.json to dkhundley-ki-docs-for-bedrock-knowledge-base Bucket...\ncreating_a_knowledge_base_article_2024_07_05.metadata.json upload successful!\nUploading setting_up_a_remote_desktop_connection_2024_07_05.metadata.json to dkhundley-ki-docs-for-bedrock-knowledge-base Bucket...\nsetting_up_a_remote_desktop_connection_2024_07_05.metadata.json upload successful!\nUploading setting_up_a_secure_wireless_network_2024_07_05.metadata.json to dkhundley-ki-docs-for-bedrock-knowledge-base Bucket...\nsetting_up_a_secure_wireless_network_2024_07_05.metadata.json upload successful!\nUploading setting_up_a_secure_connection_to_a_company-issued_database_2024_07_05.txt to dkhundley-ki-docs-for-bedrock-knowledge-base Bucket...\nsetting_up_a_secure_connection_to_a_company-issued_database_2024_07_05.txt upload successful!\nUploading resetting_a_forgotten_network_password_2024_07_05.metadata.json to dkhundley-ki-docs-for-bedrock-knowledge-base Bucket...\nresetting_a_forgotten_network_password_2024_07_05.metadata.json upload successful!\nUploading troubleshooting_issues_with_microsoft_office_2024_07_05.metadata.json to dkhundley-ki-docs-for-bedrock-knowledge-base Bucket...\ntroubleshooting_issues_with_microsoft_office_2024_07_05.metadata.json upload successful!\nUploading troubleshooting_issues_with_company-issued_headsets_2024_07_05.txt to dkhundley-ki-docs-for-bedrock-knowledge-base Bucket...\ntroubleshooting_issues_with_company-issued_headsets_2024_07_05.txt upload successful!\nUploading troubleshooting_issues_with_company-issued_laptops_2024_07_05.txt to dkhundley-ki-docs-for-bedrock-knowledge-base Bucket...\ntroubleshooting_issues_with_company-issued_laptops_2024_07_05.txt upload successful!\nUploading setting_up_a_new_user's_account_in_oracle_2024_07_05.txt to dkhundley-ki-docs-for-bedrock-knowledge-base Bucket...\nsetting_up_a_new_user's_account_in_oracle_2024_07_05.txt upload successful!\nUploading troubleshooting_issues_with_adobe_flash_2024_07_05.metadata.json to dkhundley-ki-docs-for-bedrock-knowledge-base Bucket...\ntroubleshooting_issues_with_adobe_flash_2024_07_05.metadata.json upload successful!\nUploading resetting_a_forgotten_computer_password_2024_07_05.txt to dkhundley-ki-docs-for-bedrock-knowledge-base Bucket...\nresetting_a_forgotten_computer_password_2024_07_05.txt upload successful!\nUploading setting_up_a_new_monitor_on_a_desktop_2024_07_05.txt to dkhundley-ki-docs-for-bedrock-knowledge-base Bucket...\nsetting_up_a_new_monitor_on_a_desktop_2024_07_05.txt upload successful!\nUploading troubleshooting_issues_with_microsoft_visio_2024_07_05.txt to dkhundley-ki-docs-for-bedrock-knowledge-base Bucket...\ntroubleshooting_issues_with_microsoft_visio_2024_07_05.txt upload successful!\nUploading setting_up_a_meeting_on_microsoft_teams_2024_07_05.txt to dkhundley-ki-docs-for-bedrock-knowledge-base Bucket...\nsetting_up_a_meeting_on_microsoft_teams_2024_07_05.txt upload successful!\nUploading troubleshooting_issues_with_citrix_2024_07_05.txt to dkhundley-ki-docs-for-bedrock-knowledge-base Bucket...\ntroubleshooting_issues_with_citrix_2024_07_05.txt upload successful!\nUploading configuring_a_firewall_exception_2024_07_05.metadata.json to dkhundley-ki-docs-for-bedrock-knowledge-base Bucket...\nconfiguring_a_firewall_exception_2024_07_05.metadata.json upload successful!\nUploading configuring_email_on_an_android_device_2024_07_05.metadata.json to dkhundley-ki-docs-for-bedrock-knowledge-base Bucket...\nconfiguring_email_on_an_android_device_2024_07_05.metadata.json upload successful!\nUploading configuring_a_network_fax_machine_2024_07_05.metadata.json to dkhundley-ki-docs-for-bedrock-knowledge-base Bucket...\nconfiguring_a_network_fax_machine_2024_07_05.metadata.json upload successful!\nUploading configuring_a_network_camera_2024_07_05.txt to dkhundley-ki-docs-for-bedrock-knowledge-base Bucket...\nconfiguring_a_network_camera_2024_07_05.txt upload successful!\nUploading configuring_a_company-issued_device_for_accessibility_2024_07_05.txt to dkhundley-ki-docs-for-bedrock-knowledge-base Bucket...\nconfiguring_a_company-issued_device_for_accessibility_2024_07_05.txt upload successful!\nUploading troubleshooting_issues_with_company-issued_software_2024_07_05.metadata.json to dkhundley-ki-docs-for-bedrock-knowledge-base Bucket...\ntroubleshooting_issues_with_company-issued_software_2024_07_05.metadata.json upload successful!\nUploading resetting_a_biometric_login_2024_07_05.metadata.json to dkhundley-ki-docs-for-bedrock-knowledge-base Bucket...\nresetting_a_biometric_login_2024_07_05.metadata.json upload successful!\nUploading configuring_a_company-issued_device_for_international_travel_2024_07_05.metadata.json to dkhundley-ki-docs-for-bedrock-knowledge-base Bucket...\nconfiguring_a_company-issued_device_for_international_travel_2024_07_05.metadata.json upload successful!\nUploading troubleshooting_issues_with_audio_on_a_laptop_2024_07_05.txt to dkhundley-ki-docs-for-bedrock-knowledge-base Bucket...\ntroubleshooting_issues_with_audio_on_a_laptop_2024_07_05.txt upload successful!\nUploading setting_up_a_new_user's_account_in_jira_2024_07_05.txt to dkhundley-ki-docs-for-bedrock-knowledge-base Bucket...\nsetting_up_a_new_user's_account_in_jira_2024_07_05.txt upload successful!\nUploading setting_up_a_new_user's_account_in_salesforce_2024_07_05.txt to dkhundley-ki-docs-for-bedrock-knowledge-base Bucket...\nsetting_up_a_new_user's_account_in_salesforce_2024_07_05.txt upload successful!\nUploading setting_up_a_conference_call_on_cisco_webex_2024_07_05.txt to dkhundley-ki-docs-for-bedrock-knowledge-base Bucket...\nsetting_up_a_conference_call_on_cisco_webex_2024_07_05.txt upload successful!\nUploading troubleshooting_issues_with_microsoft_word_2024_07_05.txt to dkhundley-ki-docs-for-bedrock-knowledge-base Bucket...\ntroubleshooting_issues_with_microsoft_word_2024_07_05.txt upload successful!\nUploading troubleshooting_issues_with_citrix_2024_07_05.metadata.json to dkhundley-ki-docs-for-bedrock-knowledge-base Bucket...\ntroubleshooting_issues_with_citrix_2024_07_05.metadata.json upload successful!\nUploading setting_up_a_new_user's_account_in_jira_2024_07_05.metadata.json to dkhundley-ki-docs-for-bedrock-knowledge-base Bucket...\nsetting_up_a_new_user's_account_in_jira_2024_07_05.metadata.json upload successful!\nUploading creating_a_new_it_incident_report_2024_07_05.txt to dkhundley-ki-docs-for-bedrock-knowledge-base Bucket...\ncreating_a_new_it_incident_report_2024_07_05.txt upload successful!\nUploading troubleshooting_issues_with_microsoft_project_2024_07_05.txt to dkhundley-ki-docs-for-bedrock-knowledge-base Bucket...\ntroubleshooting_issues_with_microsoft_project_2024_07_05.txt upload successful!\nUploading resetting_a_forgotten_vpn_password_2024_07_05.txt to dkhundley-ki-docs-for-bedrock-knowledge-base Bucket...\nresetting_a_forgotten_vpn_password_2024_07_05.txt upload successful!\nUploading setting_up_a_meeting_on_zoom_2024_07_05.txt to dkhundley-ki-docs-for-bedrock-knowledge-base Bucket...\nsetting_up_a_meeting_on_zoom_2024_07_05.txt upload successful!\nUploading configuring_a_network_camera_2024_07_05.metadata.json to dkhundley-ki-docs-for-bedrock-knowledge-base Bucket...\nconfiguring_a_network_camera_2024_07_05.metadata.json upload successful!\nUploading creating_a_knowledge_base_article_2024_07_05.txt to dkhundley-ki-docs-for-bedrock-knowledge-base Bucket...\ncreating_a_knowledge_base_article_2024_07_05.txt upload successful!\nUploading configuring_a_company-issued_smartphone_2024_07_05.metadata.json to dkhundley-ki-docs-for-bedrock-knowledge-base Bucket...\nconfiguring_a_company-issued_smartphone_2024_07_05.metadata.json upload successful!\nUploading configuring_a_company-issued_tablet_for_accessibility_2024_07_05.metadata.json to dkhundley-ki-docs-for-bedrock-knowledge-base Bucket...\nconfiguring_a_company-issued_tablet_for_accessibility_2024_07_05.metadata.json upload successful!\nUploading setting_up_a_secure_wireless_network_2024_07_05.txt to dkhundley-ki-docs-for-bedrock-knowledge-base Bucket...\nsetting_up_a_secure_wireless_network_2024_07_05.txt upload successful!\nUploading creating_a_new_distribution_list_in_exchange_2024_07_05.txt to dkhundley-ki-docs-for-bedrock-knowledge-base Bucket...\ncreating_a_new_distribution_list_in_exchange_2024_07_05.txt upload successful!\nUploading resetting_a_biometric_login_2024_07_05.txt to dkhundley-ki-docs-for-bedrock-knowledge-base Bucket...\nresetting_a_biometric_login_2024_07_05.txt upload successful!\nUploading troubleshooting_issues_with_company-issued_tablets_2024_07_05.txt to dkhundley-ki-docs-for-bedrock-knowledge-base Bucket...\ntroubleshooting_issues_with_company-issued_tablets_2024_07_05.txt upload successful!\nUploading troubleshooting_issues_with_a_slow-performing_computer_2024_07_05.txt to dkhundley-ki-docs-for-bedrock-knowledge-base Bucket...\ntroubleshooting_issues_with_a_slow-performing_computer_2024_07_05.txt upload successful!\nUploading creating_a_new_it_problem_2024_07_05.txt to dkhundley-ki-docs-for-bedrock-knowledge-base Bucket...\ncreating_a_new_it_problem_2024_07_05.txt upload successful!\nUploading troubleshooting_issues_with_microsoft_sharepoint_2024_07_05.txt to dkhundley-ki-docs-for-bedrock-knowledge-base Bucket...\ntroubleshooting_issues_with_microsoft_sharepoint_2024_07_05.txt upload successful!\nUploading setting_up_a_new_user's_account_in_sap_2024_07_05.metadata.json to dkhundley-ki-docs-for-bedrock-knowledge-base Bucket...\nsetting_up_a_new_user's_account_in_sap_2024_07_05.metadata.json upload successful!\nUploading troubleshooting_issues_with_microsoft_onedrive_2024_07_05.txt to dkhundley-ki-docs-for-bedrock-knowledge-base Bucket...\ntroubleshooting_issues_with_microsoft_onedrive_2024_07_05.txt upload successful!\nUploading setting_up_a_secure_connection_to_a_company-issued_website_2024_07_05.txt to dkhundley-ki-docs-for-bedrock-knowledge-base Bucket...\nsetting_up_a_secure_connection_to_a_company-issued_website_2024_07_05.txt upload successful!\nUploading troubleshooting_issues_with_company-issued_smartwatches_2024_07_05.txt to dkhundley-ki-docs-for-bedrock-knowledge-base Bucket...\ntroubleshooting_issues_with_company-issued_smartwatches_2024_07_05.txt upload successful!\nUploading setting_up_a_new_user's_voicemail_2024_07_05.metadata.json to dkhundley-ki-docs-for-bedrock-knowledge-base Bucket...\nsetting_up_a_new_user's_voicemail_2024_07_05.metadata.json upload successful!\nUploading troubleshooting_issues_with_a_slow-performing_computer_2024_07_05.metadata.json to dkhundley-ki-docs-for-bedrock-knowledge-base Bucket...\ntroubleshooting_issues_with_a_slow-performing_computer_2024_07_05.metadata.json upload successful!\nUploading troubleshooting_issues_with_company-issued_tablets_2024_07_05.metadata.json to dkhundley-ki-docs-for-bedrock-knowledge-base Bucket...\ntroubleshooting_issues_with_company-issued_tablets_2024_07_05.metadata.json upload successful!\nUploading creating_a_new_it_request_2024_07_05.txt to dkhundley-ki-docs-for-bedrock-knowledge-base Bucket...\ncreating_a_new_it_request_2024_07_05.txt upload successful!\nUploading troubleshooting_issues_with_microsoft_onenote_2024_07_05.txt to dkhundley-ki-docs-for-bedrock-knowledge-base Bucket...\ntroubleshooting_issues_with_microsoft_onenote_2024_07_05.txt upload successful!\nUploading configuring_a_company-issued_device_for_international_travel_2024_07_05.txt to dkhundley-ki-docs-for-bedrock-knowledge-base Bucket...\nconfiguring_a_company-issued_device_for_international_travel_2024_07_05.txt upload successful!\nUploading troubleshooting_issues_with_skype_for_business_2024_07_05.txt to dkhundley-ki-docs-for-bedrock-knowledge-base Bucket...\ntroubleshooting_issues_with_skype_for_business_2024_07_05.txt upload successful!\nUploading configuring_vpn_access_for_remote_workers_2024_07_05.txt to dkhundley-ki-docs-for-bedrock-knowledge-base Bucket...\nconfiguring_vpn_access_for_remote_workers_2024_07_05.txt upload successful!\nUploading setting_up_a_secure_connection_to_a_company-issued_ftp_site_2024_07_05.metadata.json to dkhundley-ki-docs-for-bedrock-knowledge-base Bucket...\nsetting_up_a_secure_connection_to_a_company-issued_ftp_site_2024_07_05.metadata.json upload successful!\nUploading setting_up_a_mobile_device_for_company_email_2024_07_05.metadata.json to dkhundley-ki-docs-for-bedrock-knowledge-base Bucket...\nsetting_up_a_mobile_device_for_company_email_2024_07_05.metadata.json upload successful!\nUploading configuring_email_on_an_android_device_2024_07_05.txt to dkhundley-ki-docs-for-bedrock-knowledge-base Bucket...\nconfiguring_email_on_an_android_device_2024_07_05.txt upload successful!\nUploading creating_a_new_it_service_request_2024_07_05.txt to dkhundley-ki-docs-for-bedrock-knowledge-base Bucket...\ncreating_a_new_it_service_request_2024_07_05.txt upload successful!\nUploading configuring_a_network_scanner_2024_07_05.metadata.json to dkhundley-ki-docs-for-bedrock-knowledge-base Bucket...\nconfiguring_a_network_scanner_2024_07_05.metadata.json upload successful!\nUploading setting_up_a_secure_connection_to_a_sharepoint_site_2024_07_05.txt to dkhundley-ki-docs-for-bedrock-knowledge-base Bucket...\nsetting_up_a_secure_connection_to_a_sharepoint_site_2024_07_05.txt upload successful!\nUploading configuring_a_company-issued_tablet_for_international_travel_2024_07_05.txt to dkhundley-ki-docs-for-bedrock-knowledge-base Bucket...\nconfiguring_a_company-issued_tablet_for_international_travel_2024_07_05.txt upload successful!\nUploading resetting_a_forgotten_vpn_password_2024_07_05.metadata.json to dkhundley-ki-docs-for-bedrock-knowledge-base Bucket...\nresetting_a_forgotten_vpn_password_2024_07_05.metadata.json upload successful!\nUploading creating_a_new_it_problem_report_2024_07_05.txt to dkhundley-ki-docs-for-bedrock-knowledge-base Bucket...\ncreating_a_new_it_problem_report_2024_07_05.txt upload successful!\nUploading resetting_a_forgotten_security_question_2024_07_05.txt to dkhundley-ki-docs-for-bedrock-knowledge-base Bucket...\nresetting_a_forgotten_security_question_2024_07_05.txt upload successful!\nUploading setting_up_a_meeting_on_zoom_2024_07_05.metadata.json to dkhundley-ki-docs-for-bedrock-knowledge-base Bucket...\nsetting_up_a_meeting_on_zoom_2024_07_05.metadata.json upload successful!\nUploading troubleshooting_issues_with_adobe_flash_2024_07_05.txt to dkhundley-ki-docs-for-bedrock-knowledge-base Bucket...\ntroubleshooting_issues_with_adobe_flash_2024_07_05.txt upload successful!\nUploading resetting_a_forgotten_username_2024_07_05.txt to dkhundley-ki-docs-for-bedrock-knowledge-base Bucket...\nresetting_a_forgotten_username_2024_07_05.txt upload successful!\nUploading creating_a_restore_point_on_a_windows_machine_2024_07_05.txt to dkhundley-ki-docs-for-bedrock-knowledge-base Bucket...\ncreating_a_restore_point_on_a_windows_machine_2024_07_05.txt upload successful!\nUploading setting_up_a_secure_connection_to_a_company-issued_database_2024_07_05.metadata.json to dkhundley-ki-docs-for-bedrock-knowledge-base Bucket...\nsetting_up_a_secure_connection_to_a_company-issued_database_2024_07_05.metadata.json upload successful!\nUploading creating_a_new_folder_in_the_company's_file_system_2024_07_05.metadata.json to dkhundley-ki-docs-for-bedrock-knowledge-base Bucket...\ncreating_a_new_folder_in_the_company's_file_system_2024_07_05.metadata.json upload successful!\nUploading resetting_a_computer's_bios_2024_07_05.txt to dkhundley-ki-docs-for-bedrock-knowledge-base Bucket...\nresetting_a_computer's_bios_2024_07_05.txt upload successful!\nUploading resetting_a_computer's_ip_address_2024_07_05.txt to dkhundley-ki-docs-for-bedrock-knowledge-base Bucket...\nresetting_a_computer's_ip_address_2024_07_05.txt upload successful!\nUploading setting_up_a_secure_connection_to_a_sharepoint_site_2024_07_05.metadata.json to dkhundley-ki-docs-for-bedrock-knowledge-base Bucket...\nsetting_up_a_secure_connection_to_a_sharepoint_site_2024_07_05.metadata.json upload successful!\nUploading resetting_a_computer's_bios_2024_07_05.metadata.json to dkhundley-ki-docs-for-bedrock-knowledge-base Bucket...\nresetting_a_computer's_bios_2024_07_05.metadata.json upload successful!\nUploading troubleshooting_issues_with_microsoft_sharepoint_2024_07_05.metadata.json to dkhundley-ki-docs-for-bedrock-knowledge-base Bucket...\ntroubleshooting_issues_with_microsoft_sharepoint_2024_07_05.metadata.json upload successful!\nUploading resetting_a_computer's_dns_settings_2024_07_05.metadata.json to dkhundley-ki-docs-for-bedrock-knowledge-base Bucket...\nresetting_a_computer's_dns_settings_2024_07_05.metadata.json upload successful!\nUploading troubleshooting_issues_with_company-issued_desktops_2024_07_05.txt to dkhundley-ki-docs-for-bedrock-knowledge-base Bucket...\ntroubleshooting_issues_with_company-issued_desktops_2024_07_05.txt upload successful!\nUploading setting_up_a_new_user's_account_in_box_2024_07_05.metadata.json to dkhundley-ki-docs-for-bedrock-knowledge-base Bucket...\nsetting_up_a_new_user's_account_in_box_2024_07_05.metadata.json upload successful!\nUploading troubleshooting_issues_with_microsoft_access_2024_07_05.metadata.json to dkhundley-ki-docs-for-bedrock-knowledge-base Bucket...\ntroubleshooting_issues_with_microsoft_access_2024_07_05.metadata.json upload successful!\nUploading troubleshooting_issues_with_microsoft_publisher_2024_07_05.txt to dkhundley-ki-docs-for-bedrock-knowledge-base Bucket...\ntroubleshooting_issues_with_microsoft_publisher_2024_07_05.txt upload successful!\nUploading creating_a_new_it_request_2024_07_05.metadata.json to dkhundley-ki-docs-for-bedrock-knowledge-base Bucket...\ncreating_a_new_it_request_2024_07_05.metadata.json upload successful!\nUploading setting_up_a_remote_desktop_connection_2024_07_05.txt to dkhundley-ki-docs-for-bedrock-knowledge-base Bucket...\nsetting_up_a_remote_desktop_connection_2024_07_05.txt upload successful!\nUploading troubleshooting_issues_with_company-issued_hardware_2024_07_05.txt to dkhundley-ki-docs-for-bedrock-knowledge-base Bucket...\ntroubleshooting_issues_with_company-issued_hardware_2024_07_05.txt upload successful!\nUploading setting_up_a_new_user's_account_in_workday_2024_07_05.txt to dkhundley-ki-docs-for-bedrock-knowledge-base Bucket...\nsetting_up_a_new_user's_account_in_workday_2024_07_05.txt upload successful!\nUploading creating_a_restore_point_on_a_windows_machine_2024_07_05.metadata.json to dkhundley-ki-docs-for-bedrock-knowledge-base Bucket...\ncreating_a_restore_point_on_a_windows_machine_2024_07_05.metadata.json upload successful!\nUploading setting_up_a_secure_connection_to_a_company-issued_device_2024_07_05.metadata.json to dkhundley-ki-docs-for-bedrock-knowledge-base Bucket...\nsetting_up_a_secure_connection_to_a_company-issued_device_2024_07_05.metadata.json upload successful!\nUploading resetting_a_forgotten_network_password_2024_07_05.txt to dkhundley-ki-docs-for-bedrock-knowledge-base Bucket...\nresetting_a_forgotten_network_password_2024_07_05.txt upload successful!\nUploading creating_a_new_it_request_for_a_new_employee_2024_07_05.metadata.json to dkhundley-ki-docs-for-bedrock-knowledge-base Bucket...\ncreating_a_new_it_request_for_a_new_employee_2024_07_05.metadata.json upload successful!\nUploading troubleshooting_issues_with_microsoft_excel_2024_07_05.metadata.json to dkhundley-ki-docs-for-bedrock-knowledge-base Bucket...\ntroubleshooting_issues_with_microsoft_excel_2024_07_05.metadata.json upload successful!\nUploading configuring_a_network_printer_2024_07_05.metadata.json to dkhundley-ki-docs-for-bedrock-knowledge-base Bucket...\nconfiguring_a_network_printer_2024_07_05.metadata.json upload successful!\nUploading setting_up_a_new_monitor_on_a_desktop_2024_07_05.metadata.json to dkhundley-ki-docs-for-bedrock-knowledge-base Bucket...\nsetting_up_a_new_monitor_on_a_desktop_2024_07_05.metadata.json upload successful!\nUploading resetting_a_computer's_dhcp_settings_2024_07_05.txt to dkhundley-ki-docs-for-bedrock-knowledge-base Bucket...\nresetting_a_computer's_dhcp_settings_2024_07_05.txt upload successful!\nUploading resetting_a_forgotten_computer_password_2024_07_05.metadata.json to dkhundley-ki-docs-for-bedrock-knowledge-base Bucket...\nresetting_a_forgotten_computer_password_2024_07_05.metadata.json upload successful!\nUploading setting_up_a_secure_connection_to_a_company-issued_device_2024_07_05.txt to dkhundley-ki-docs-for-bedrock-knowledge-base Bucket...\nsetting_up_a_secure_connection_to_a_company-issued_device_2024_07_05.txt upload successful!\nUploading troubleshooting_issues_with_microsoft_project_2024_07_05.metadata.json to dkhundley-ki-docs-for-bedrock-knowledge-base Bucket...\ntroubleshooting_issues_with_microsoft_project_2024_07_05.metadata.json upload successful!\nUploading creating_a_new_it_change_request_2024_07_05.txt to dkhundley-ki-docs-for-bedrock-knowledge-base Bucket...\ncreating_a_new_it_change_request_2024_07_05.txt upload successful!\nUploading creating_a_new_it_incident_2024_07_05.txt to dkhundley-ki-docs-for-bedrock-knowledge-base Bucket...\ncreating_a_new_it_incident_2024_07_05.txt upload successful!\nUploading setting_up_a_new_user's_account_in_oracle_2024_07_05.metadata.json to dkhundley-ki-docs-for-bedrock-knowledge-base Bucket...\nsetting_up_a_new_user's_account_in_oracle_2024_07_05.metadata.json upload successful!\nUploading setting_up_a_new_user's_account_in_dropbox_2024_07_05.txt to dkhundley-ki-docs-for-bedrock-knowledge-base Bucket...\nsetting_up_a_new_user's_account_in_dropbox_2024_07_05.txt upload successful!\nUploading troubleshooting_issues_with_microsoft_powerpoint_2024_07_05.txt to dkhundley-ki-docs-for-bedrock-knowledge-base Bucket...\ntroubleshooting_issues_with_microsoft_powerpoint_2024_07_05.txt upload successful!\nUploading setting_up_a_secure_connection_to_a_company-issued_printer_2024_07_05.txt to dkhundley-ki-docs-for-bedrock-knowledge-base Bucket...\nsetting_up_a_secure_connection_to_a_company-issued_printer_2024_07_05.txt upload successful!\nUploading setting_up_a_secure_connection_to_a_company-issued_server_2024_07_05.metadata.json to dkhundley-ki-docs-for-bedrock-knowledge-base Bucket...\nsetting_up_a_secure_connection_to_a_company-issued_server_2024_07_05.metadata.json upload successful!\nUploading creating_a_new_it_problem_report_2024_07_05.metadata.json to dkhundley-ki-docs-for-bedrock-knowledge-base Bucket...\ncreating_a_new_it_problem_report_2024_07_05.metadata.json upload successful!\nUploading creating_a_system_restore_point_2024_07_05.metadata.json to dkhundley-ki-docs-for-bedrock-knowledge-base Bucket...\ncreating_a_system_restore_point_2024_07_05.metadata.json upload successful!\nUploading creating_a_new_it_incident_2024_07_05.metadata.json to dkhundley-ki-docs-for-bedrock-knowledge-base Bucket...\ncreating_a_new_it_incident_2024_07_05.metadata.json upload successful!\nUploading creating_a_new_it_request_for_a_new_employee_2024_07_05.txt to dkhundley-ki-docs-for-bedrock-knowledge-base Bucket...\ncreating_a_new_it_request_for_a_new_employee_2024_07_05.txt upload successful!\nUploading setting_up_a_secure_connection_to_a_database_2024_07_05.txt to dkhundley-ki-docs-for-bedrock-knowledge-base Bucket...\nsetting_up_a_secure_connection_to_a_database_2024_07_05.txt upload successful!\nUploading setting_up_a_new_user's_account_in_box_2024_07_05.txt to dkhundley-ki-docs-for-bedrock-knowledge-base Bucket...\nsetting_up_a_new_user's_account_in_box_2024_07_05.txt upload successful!\nUploading configuring_a_company-issued_tablet_for_accessibility_2024_07_05.txt to dkhundley-ki-docs-for-bedrock-knowledge-base Bucket...\nconfiguring_a_company-issued_tablet_for_accessibility_2024_07_05.txt upload successful!\nUploading setting_up_a_secure_connection_to_a_database_server_2024_07_05.txt to dkhundley-ki-docs-for-bedrock-knowledge-base Bucket...\nsetting_up_a_secure_connection_to_a_database_server_2024_07_05.txt upload successful!\nUploading troubleshooting_issues_with_a_jammed_copier_2024_07_05.txt to dkhundley-ki-docs-for-bedrock-knowledge-base Bucket...\ntroubleshooting_issues_with_a_jammed_copier_2024_07_05.txt upload successful!\nUploading troubleshooting_issues_with_microsoft_onenote_2024_07_05.metadata.json to dkhundley-ki-docs-for-bedrock-knowledge-base Bucket...\ntroubleshooting_issues_with_microsoft_onenote_2024_07_05.metadata.json upload successful!\nUploading setting_up_a_mobile_device_for_company_email_2024_07_05.txt to dkhundley-ki-docs-for-bedrock-knowledge-base Bucket...\nsetting_up_a_mobile_device_for_company_email_2024_07_05.txt upload successful!\nUploading configuring_a_network_printer_2024_07_05.txt to dkhundley-ki-docs-for-bedrock-knowledge-base Bucket...\nconfiguring_a_network_printer_2024_07_05.txt upload successful!\nUploading setting_up_a_secure_connection_to_a_company-issued_website_2024_07_05.metadata.json to dkhundley-ki-docs-for-bedrock-knowledge-base Bucket...\nsetting_up_a_secure_connection_to_a_company-issued_website_2024_07_05.metadata.json upload successful!\nUploading troubleshooting_issues_with_microsoft_publisher_2024_07_05.metadata.json to dkhundley-ki-docs-for-bedrock-knowledge-base Bucket...\ntroubleshooting_issues_with_microsoft_publisher_2024_07_05.metadata.json upload successful!\nUploading configuring_a_company-issued_smartphone_for_international_travel_2024_07_05.txt to dkhundley-ki-docs-for-bedrock-knowledge-base Bucket...\nconfiguring_a_company-issued_smartphone_for_international_travel_2024_07_05.txt upload successful!\nUploading troubleshooting_issues_with_microsoft_excel_2024_07_05.txt to dkhundley-ki-docs-for-bedrock-knowledge-base Bucket...\ntroubleshooting_issues_with_microsoft_excel_2024_07_05.txt upload successful!\nUploading troubleshooting_issues_with_a_malfunctioning_keyboard_2024_07_05.txt to dkhundley-ki-docs-for-bedrock-knowledge-base Bucket...\ntroubleshooting_issues_with_a_malfunctioning_keyboard_2024_07_05.txt upload successful!\nUploading troubleshooting_issues_with_a_slow-performing_network_2024_07_05.metadata.json to dkhundley-ki-docs-for-bedrock-knowledge-base Bucket...\ntroubleshooting_issues_with_a_slow-performing_network_2024_07_05.metadata.json upload successful!\nUploading configuring_a_company-issued_smartphone_2024_07_05.txt to dkhundley-ki-docs-for-bedrock-knowledge-base Bucket...\nconfiguring_a_company-issued_smartphone_2024_07_05.txt upload successful!\nUploading troubleshooting_issues_with_microsoft_access_2024_07_05.txt to dkhundley-ki-docs-for-bedrock-knowledge-base Bucket...\ntroubleshooting_issues_with_microsoft_access_2024_07_05.txt upload successful!\nUploading resetting_a_forgotten_network_username._2024_07_05.txt to dkhundley-ki-docs-for-bedrock-knowledge-base Bucket...\nresetting_a_forgotten_network_username._2024_07_05.txt upload successful!\nUploading creating_a_backup_of_important_files_2024_07_05.metadata.json to dkhundley-ki-docs-for-bedrock-knowledge-base Bucket...\ncreating_a_backup_of_important_files_2024_07_05.metadata.json upload successful!\nUploading creating_a_new_it_incident_report_2024_07_05.metadata.json to dkhundley-ki-docs-for-bedrock-knowledge-base Bucket...\ncreating_a_new_it_incident_report_2024_07_05.metadata.json upload successful!\nUploading troubleshooting_issues_with_audio_on_a_laptop_2024_07_05.metadata.json to dkhundley-ki-docs-for-bedrock-knowledge-base Bucket...\ntroubleshooting_issues_with_audio_on_a_laptop_2024_07_05.metadata.json upload successful!\nUploading setting_up_a_secure_connection_to_a_company-issued_printer_2024_07_05.metadata.json to dkhundley-ki-docs-for-bedrock-knowledge-base Bucket...\nsetting_up_a_secure_connection_to_a_company-issued_printer_2024_07_05.metadata.json upload successful!\nUploading setting_up_a_secure_connection_to_a_database_2024_07_05.metadata.json to dkhundley-ki-docs-for-bedrock-knowledge-base Bucket...\nsetting_up_a_secure_connection_to_a_database_2024_07_05.metadata.json upload successful!\nUploading troubleshooting_issues_with_java_2024_07_05.metadata.json to dkhundley-ki-docs-for-bedrock-knowledge-base Bucket...\ntroubleshooting_issues_with_java_2024_07_05.metadata.json upload successful!\nUploading troubleshooting_issues_with_company-issued_headsets_2024_07_05.metadata.json to dkhundley-ki-docs-for-bedrock-knowledge-base Bucket...\ntroubleshooting_issues_with_company-issued_headsets_2024_07_05.metadata.json upload successful!\nUploading troubleshooting_issues_with_a_malfunctioning_keyboard_2024_07_05.metadata.json to dkhundley-ki-docs-for-bedrock-knowledge-base Bucket...\ntroubleshooting_issues_with_a_malfunctioning_keyboard_2024_07_05.metadata.json upload successful!\nUploading setting_up_a_new_user's_computer_2024_07_05.metadata.json to dkhundley-ki-docs-for-bedrock-knowledge-base Bucket...\nsetting_up_a_new_user's_computer_2024_07_05.metadata.json upload successful!\nUploading configuring_a_network_drive_2024_07_05.txt to dkhundley-ki-docs-for-bedrock-knowledge-base Bucket...\nconfiguring_a_network_drive_2024_07_05.txt upload successful!\nUploading setting_up_a_new_user's_account_in_concur_2024_07_05.metadata.json to dkhundley-ki-docs-for-bedrock-knowledge-base Bucket...\nsetting_up_a_new_user's_account_in_concur_2024_07_05.metadata.json upload successful!\nUploading resetting_a_forgotten_employee_id_2024_07_05.metadata.json to dkhundley-ki-docs-for-bedrock-knowledge-base Bucket...\nresetting_a_forgotten_employee_id_2024_07_05.metadata.json upload successful!\nUploading troubleshooting_issues_with_company-issued_laptops_2024_07_05.metadata.json to dkhundley-ki-docs-for-bedrock-knowledge-base Bucket...\ntroubleshooting_issues_with_company-issued_laptops_2024_07_05.metadata.json upload successful!\nUploading resetting_a_jammed_printer_2024_07_05.txt to dkhundley-ki-docs-for-bedrock-knowledge-base Bucket...\nresetting_a_jammed_printer_2024_07_05.txt upload successful!\nUploading configuring_a_network_drive_2024_07_05.metadata.json to dkhundley-ki-docs-for-bedrock-knowledge-base Bucket...\nconfiguring_a_network_drive_2024_07_05.metadata.json upload successful!\nUploading setting_up_a_new_user's_account_in_sap_2024_07_05.txt to dkhundley-ki-docs-for-bedrock-knowledge-base Bucket...\nsetting_up_a_new_user's_account_in_sap_2024_07_05.txt upload successful!\nUploading troubleshooting_issues_with_microsoft_visio_2024_07_05.metadata.json to dkhundley-ki-docs-for-bedrock-knowledge-base Bucket...\ntroubleshooting_issues_with_microsoft_visio_2024_07_05.metadata.json upload successful!\nUploading setting_up_a_new_user's_voicemail_2024_07_05.txt to dkhundley-ki-docs-for-bedrock-knowledge-base Bucket...\nsetting_up_a_new_user's_voicemail_2024_07_05.txt upload successful!\nUploading troubleshooting_issues_with_a_slow-performing_network_2024_07_05.txt to dkhundley-ki-docs-for-bedrock-knowledge-base Bucket...\ntroubleshooting_issues_with_a_slow-performing_network_2024_07_05.txt upload successful!\nUploading troubleshooting_issues_with_company-issued_desktops_2024_07_05.metadata.json to dkhundley-ki-docs-for-bedrock-knowledge-base Bucket...\ntroubleshooting_issues_with_company-issued_desktops_2024_07_05.metadata.json upload successful!\nUploading troubleshooting_issues_with_microsoft_onedrive_2024_07_05.metadata.json to dkhundley-ki-docs-for-bedrock-knowledge-base Bucket...\ntroubleshooting_issues_with_microsoft_onedrive_2024_07_05.metadata.json upload successful!\nUploading resetting_a_forgotten_network_username._2024_07_05.metadata.json to dkhundley-ki-docs-for-bedrock-knowledge-base Bucket...\nresetting_a_forgotten_network_username._2024_07_05.metadata.json upload successful!\n",
     "output_type": "stream"
    }
   ]
  },
  {
   "metadata": {},
   "cell_type": "markdown",
   "source": "## Creating the Bedrock Knowledge Base"
  },
  {
   "metadata": {},
   "cell_type": "markdown",
   "source": "### Creating a Custom IAM Role"
  },
  {
   "metadata": {
    "trusted": false
   },
   "cell_type": "code",
   "source": "# Setting the name of the IAM role\nrole_name = f'{resource_prefix}-role'\n\n# Instantiating an IAM boto3 client\niam_client = boto3.client('iam')\n\n# Defining the trust relationship policy information\ntrust_relationship_info = {\n    'Version': '2012-10-17',\n    'Statement': [\n        {\n            'Effect': 'Allow',\n            'Principal': {\n                'Service': 'bedrock.amazonaws.com'\n            },\n            'Action': 'sts:AssumeRole'\n        }\n    ]\n}\n\n# Defining the IAM policy information\npolicy_info = {\n    'Version': '2012-10-17',\n    'Statement': [\n        {\n            \"Effect\": \"Allow\",\n            \"Action\": [\n                \"bedrock:CreateKnowledgeBase\",\n                \"bedrock:GetKnowledgeBase\",\n                \"bedrock:UpdateKnowledgeBase\",\n                \"bedrock:DeleteKnowledgeBase\",\n                \"bedrock:CreateDataSource\",\n                \"bedrock:GetDataSource\",\n                \"bedrock:UpdateDataSource\",\n                \"bedrock:DeleteDataSource\",\n                \"bedrock:ListKnowledgeBases\",\n                \"bedrock:ListDataSources\"\n            ],\n            \"Resource\": \"*\"\n        },\n        {\n            \"Effect\": \"Allow\",\n            \"Action\": [\n                \"aoss:CreateCollection\",\n                \"aoss:DeleteCollection\",\n                \"aoss:GetCollection\",\n                \"aoss:ListCollections\",\n                \"aoss:BatchGetCollection\",\n                \"aoss:CreateSecurityPolicy\",\n                \"aoss:GetSecurityPolicy\",\n                \"aoss:ListSecurityPolicies\"\n            ],\n            \"Resource\": \"*\"\n        },\n        {\n            \"Effect\": \"Allow\",\n            \"Action\": [\n                \"s3:GetObject\",\n                \"s3:ListBucket\"\n            ],\n            \"Resource\": \"*\"\n        },\n        {\n            \"Effect\": \"Allow\",\n            \"Action\": [\n                \"ec2:DescribeVpcs\",\n                \"ec2:DescribeSecurityGroups\"\n            ],\n            \"Resource\": \"*\"\n        }\n\n    ]\n}",
   "execution_count": null,
   "outputs": []
  },
  {
   "metadata": {
    "trusted": false
   },
   "cell_type": "code",
   "source": "# Creating the IAM role / policy if they do not already exist\ntry:\n    \n    # Creating the IAM role\n    response = iam_client.create_role(\n        RoleName = role_name,\n        AssumeRolePolicyDocument = json.dumps(trust_relationship_info)\n    )\n    role_arn = response['Role']['Arn']\n    print(f'IAM Role created: {role_arn}')\n    \n    # Creating the IAM policy\n    policy_name = f'{role_name}-policy'\n    policy_response = iam_client.create_policy(\n        PolicyName = policy_name,\n        PolicyDocument = json.dumps(policy_info)\n    )\n    policy_arn = policy_response['Policy']['Arn']\n    print(f'IAM Policy created: {policy_arn}')\n    \n    # Atttaching the IAM policy to the ARN\n    iam_client.attach_role_policy(\n        RoleName = role_name,\n        PolicyArn = policy_arn\n    )\n    time.sleep(10)\n    print(f'Policy attached to role {role_name}')\n    \nexcept iam_client.exceptions.EntityAlreadyExistsException:\n    print(f'IAM role {role_name} already exists')\n    role = iam_client.get_role(RoleName = role_name)\n    role_arn = role['Role']['Arn']",
   "execution_count": null,
   "outputs": []
  },
  {
   "metadata": {},
   "cell_type": "markdown",
   "source": "### Creating an OpenSearch Serverless Collection"
  },
  {
   "metadata": {
    "trusted": false
   },
   "cell_type": "code",
   "source": "# Instantiating a boto3 client for OpenSearch Serverless \nopensearch_serverless_client = boto3.client('opensearchserverless')\n\n# Setting the name for the OpenSearch Serverless collection\nopensearch_serverless_collection_name = f'{resource_prefix}-ossc'\nopensearch_serverless_collection_name",
   "execution_count": null,
   "outputs": []
  },
  {
   "metadata": {
    "trusted": false
   },
   "cell_type": "code",
   "source": "def get_or_create_oss_security_policy(collection_name):\n    '''\n    Gets or creates the OpenSearch Serverless collection's security policy\n    \n    Inputs:\n        - collection_name (str): The name of the collection\n        \n    Returns:\n        - policy_name (str): The name of the policy\n    '''\n    \n    # Setting the name of the policy\n    policy_name = f'{collection_name}-policy'\n    \n    # Creating the policy if it does not already exist\n    try:\n        response = opensearch_serverless_client.create_security_policy(\n            name = policy_name,\n            policy = \"\"\"\n            {\n                \"Rules\": [\n                    {\n                        \"ResourceType\": \"collection\",\n                        \"Resource\": [\n                            \"collection/\"\"\"+ collection_name + \"\"\"\"\n                        ]\n                    }\n                ],\n                \"AWSOwnedKey\": true\n            }\n            \"\"\",\n            type = 'encryption'\n        )\n        \n        print(f'Security policy created: {policy_name}')\n        \n    except opensearch_serverless_client.exceptions.ConflictException:\n        print(f'Security policy {policy_name} already exists')\n        \n    return policy_name",
   "execution_count": null,
   "outputs": []
  },
  {
   "metadata": {
    "trusted": false
   },
   "cell_type": "code",
   "source": "def create_oss_collection_for_bedrock_kb(collection_name, policy_name):\n    '''\n    Creates the OpenSearch Serverless collection to serve as the backend for Bedrock Knowledge Base\n    \n    Inputs:\n        - collection_name (str): The name we want for the OpenSearch Serverless collection\n        - policy_name (str): The name of policy that will be associated to the OpenSearch Serverless collection\n    \n    Returns:\n        - oss_collection_arn (str): The OpenSearch Serverless collection ARN\n    '''\n    \n    # Creating the OpenSearch Serverless Collection\n    response = opensearch_serverless_client.create_collection(\n        name = collection_name,\n        description = 'Collection for Bedrock Knowledge Base',\n        type = 'SEARCH',\n    )\n    \n    # Getting the OpenSearch Serverless Collection ARN\n    oss_collection_arn = response['createCollectionDetail']['arn']\n    print('OpenSearch Serverless collection created. Waiting to be ready...')\n    \n    # Waiting the for the collection to become active\n    if wait_for_collection_active(collection_name = collection_name):\n        \n        return oss_collection_arn",
   "execution_count": null,
   "outputs": []
  },
  {
   "metadata": {
    "trusted": false
   },
   "cell_type": "code",
   "source": "def get_or_create_opensearch_serverless_collection(collection_name):\n    '''\n    Gets or creates the OpenSearch Collection\n    \n    Inputs:\n        - collection_name (str): The name we want for the OpenSearch Serverless collection\n        \n    Returns\n        - oss_collection_arn (str): The ARN of the OpenSearch Serverless colection\n    '''\n    \n    # Getting or creating the security policy to be associated to the OpenSearch Serverless Collection\n    policy_name = get_or_create_oss_security_policy(collection_name = collection_name)\n    \n    # Checking to see that the OpenSearch Serverless collection has not yet been created\n    existing_collections = opensearch_serverless_client.list_collections()\n\n    if len(existing_collections['collectionSummaries']) == 0:\n        print('No OpenSearch Serverless collections found. Creating...')\n\n        # Creating the OpenSearch Serverless Collection\n        oss_collection_arn = create_oss_collection_for_bedrock_kb(\n            collection_name = collection_name,\n            policy_name = policy_name\n        )\n        \n        return oss_collection_arn\n\n    else:\n\n        # Checking through all the existing collections to check for any matching names\n        for oss_collection in existing_collections['collectionSummaries']:\n\n            if oss_collection['name'] == opensearch_serverless_collection_name:\n                print(f'Collection already exists. ARN: {oss_collection[\"arn\"]}')\n                oss_collection_arn = oss_collection['arn']\n                return oss_collection_arn\n        \n        # Creating the OpenSearch Serverless Collection\n        oss_collection_arn = create_oss_collection_for_bedrock_kb(\n            collection_name = collection_name,\n            policy_name = policy_name\n        )\n        \n        return oss_collection_arn",
   "execution_count": null,
   "outputs": []
  },
  {
   "metadata": {
    "trusted": false
   },
   "cell_type": "code",
   "source": "def wait_for_collection_active(collection_name, max_attempts = 20, delay = 30):\n    '''\n    Checks to see if an OpenSearch Serverless collection is active (ready)\n    \n    Inputs:\n        - collection_name (str): The name of the collection,\n        - max_attempts (int): The total number of attempts to try polling\n        - delay (int): The number of seconds in between each poll\n        \n    Returns:\n        - (boolean): A boolean value where True indicates that the collection is active\n    '''\n    \n    # Iterating through each attempt\n    for attempt in range(max_attempts):\n        \n        try:\n            \n            # Checking the status using the OpenSearch Serverless client\n            response = opensearch_serverless_client.batch_get_collection(names = [collection_name])\n            \n            # Extracting the specific status\n            status = response['collectionDetails'][0]['status']\n            \n            if status == 'ACTIVE':\n                print(f'Collection {collectiion_name} is now active!')\n                return True\n            \n            elif status in ['FAILED', 'DELETED']:\n                print(f'Collection {collection_name} enetered {status} state')\n                return False\n            \n            else:\n                print(f'Collection {collection_name} is in {status} state. Waiting...')\n                \n        except Exception as e:\n            print(f'Error checking colelction status: {str(e)}')\n            \n        \n        # Waiting between each attempt\n        time.sleep(delay)\n        \n        # Giving up if maximum attempts have been reached\n        print(f'Timeout waiting for collection {collection_name} to become active')\n        \n        return False",
   "execution_count": null,
   "outputs": []
  },
  {
   "metadata": {
    "trusted": false
   },
   "cell_type": "code",
   "source": "# Getting the ARN associated to the newly created or already existing OpenSearch Serverless Collection\noss_collection_arn = get_or_create_opensearch_serverless_collection(collection_name = opensearch_serverless_collection_name)",
   "execution_count": null,
   "outputs": []
  },
  {
   "metadata": {},
   "cell_type": "markdown",
   "source": "### Building Bedrock Knowledge Base"
  },
  {
   "metadata": {
    "trusted": false
   },
   "cell_type": "code",
   "source": "",
   "execution_count": null,
   "outputs": []
  },
  {
   "metadata": {
    "trusted": false
   },
   "cell_type": "code",
   "source": "",
   "execution_count": null,
   "outputs": []
  }
 ],
 "metadata": {
  "kernelspec": {
   "name": "python3",
   "display_name": "Python 3",
   "language": "python"
  },
  "language_info": {
   "name": "python",
   "version": "3.10.4",
   "mimetype": "text/x-python",
   "codemirror_mode": {
    "name": "ipython",
    "version": 3
   },
   "pygments_lexer": "ipython3",
   "nbconvert_exporter": "python",
   "file_extension": ".py"
  },
  "kaggle": {
   "accelerator": "none",
   "dataSources": [
    {
     "sourceId": 8796442,
     "sourceType": "datasetVersion",
     "datasetId": 5104322
    },
    {
     "sourceId": 186142459,
     "sourceType": "kernelVersion"
    },
    {
     "sourceId": 186143023,
     "sourceType": "kernelVersion"
    }
   ],
   "dockerImageVersionId": 30732,
   "isInternetEnabled": true,
   "language": "python",
   "sourceType": "notebook",
   "isGpuEnabled": false
  }
 },
 "nbformat": 4,
 "nbformat_minor": 4
}