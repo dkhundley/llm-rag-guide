{
 "cells": [
  {
   "cell_type": "code",
   "execution_count": 4,
   "metadata": {},
   "outputs": [
    {
     "name": "stdout",
     "output_type": "stream",
     "text": [
      "Vocab:\n",
      "defaultdict(<class 'int'>, {'t h i s </w>': 3, 'i s </w>': 3, 'a </w>': 2, 't e s t </w>': 3, 'a n o t h e r </w>': 1, 'w h y </w>': 1})\n",
      "Pairs:\n",
      "defaultdict(<class 'int'>, {('t', 'h'): 4, ('h', 'i'): 3, ('i', 's'): 6, ('s', '</w>'): 6, ('a', '</w>'): 2, ('t', 'e'): 3, ('e', 's'): 3, ('s', 't'): 3, ('t', '</w>'): 3, ('a', 'n'): 1, ('n', 'o'): 1, ('o', 't'): 1, ('h', 'e'): 1, ('e', 'r'): 1, ('r', '</w>'): 1, ('w', 'h'): 1, ('h', 'y'): 1, ('y', '</w>'): 1})\n",
      "BPE Vocab:\n",
      "{'this</w>': 3, 'is</w>': 3, 'a</w>': 2, 'test</w>': 3, 'an o th e r </w>': 1, 'w h y </w>': 1}\n"
     ]
    }
   ],
   "source": [
    "import re\n",
    "from collections import defaultdict\n",
    "\n",
    "def get_vocab(data):\n",
    "    \"\"\" Given a list of strings, returns a dictionary of words mapping to their frequency count in the data. \"\"\"\n",
    "    vocab = defaultdict(int)\n",
    "    for line in data:\n",
    "        for word in line.split():\n",
    "            # We add ' </w>' to indicate the end of a word\n",
    "            vocab[' '.join(list(word)) + ' </w>'] += 1\n",
    "    return vocab\n",
    "\n",
    "def get_stats(vocab):\n",
    "    \"\"\" Given a vocabulary (dictionary mapping words to frequency counts), returns a dictionary of tuples representing the frequency count of pairs of characters in the vocabulary. \"\"\"\n",
    "    pairs = defaultdict(int)\n",
    "    for word, freq in vocab.items():\n",
    "        symbols = word.split()\n",
    "        for i in range(len(symbols) - 1):\n",
    "            pairs[symbols[i], symbols[i + 1]] += freq\n",
    "    return pairs\n",
    "\n",
    "def merge_vocab(pair, v_in):\n",
    "    \"\"\" Merges the most frequent pair in the vocabulary. \"\"\"\n",
    "    v_out = {}\n",
    "    bigram = re.escape(' '.join(pair))\n",
    "    p = re.compile(r'(?<!\\S)' + bigram + r'(?!\\S)')\n",
    "    for word in v_in:\n",
    "        w_out = p.sub(''.join(pair), word)\n",
    "        v_out[w_out] = v_in[word]\n",
    "    return v_out\n",
    "\n",
    "def byte_pair_encoding(data, num_merges):\n",
    "    \"\"\" Performs byte pair encoding on the input data. \"\"\"\n",
    "    vocab = get_vocab(data)\n",
    "    for i in range(num_merges):\n",
    "        pairs = get_stats(vocab)\n",
    "        if not pairs:\n",
    "            break\n",
    "        best_pair = max(pairs, key=pairs.get)\n",
    "        vocab = merge_vocab(best_pair, vocab)\n",
    "    return vocab\n",
    "\n",
    "# Example usage:\n",
    "data = [\"this is a test\", \"this is another test\", \"why is this a test\"]\n",
    "num_merges = 10\n",
    "bpe_vocab = byte_pair_encoding(data, num_merges)\n",
    "\n",
    "vocab = get_vocab(data)\n",
    "pairs = get_stats(vocab)\n",
    "print(f'Vocab:\\n{vocab}')\n",
    "print(f'Pairs:\\n{pairs}')\n",
    "print(f'BPE Vocab:\\n{bpe_vocab}')"
   ]
  },
  {
   "cell_type": "code",
   "execution_count": 5,
   "metadata": {},
   "outputs": [
    {
     "ename": "NameError",
     "evalue": "name 'validate_model' is not defined",
     "output_type": "error",
     "traceback": [
      "\u001b[0;31m---------------------------------------------------------------------------\u001b[0m",
      "\u001b[0;31mNameError\u001b[0m                                 Traceback (most recent call last)",
      "Cell \u001b[0;32mIn[5], line 15\u001b[0m\n\u001b[1;32m     12\u001b[0m     vocab_sizes\u001b[38;5;241m.\u001b[39mappend(\u001b[38;5;28mlen\u001b[39m(vocab))\n\u001b[1;32m     14\u001b[0m     \u001b[38;5;66;03m# Train your model here with the vocab and evaluate on the validation set\u001b[39;00m\n\u001b[0;32m---> 15\u001b[0m     score \u001b[38;5;241m=\u001b[39m \u001b[43mvalidate_model\u001b[49m(model, validation_data)\n\u001b[1;32m     16\u001b[0m     validation_scores\u001b[38;5;241m.\u001b[39mappend(score)\n\u001b[1;32m     18\u001b[0m \u001b[38;5;66;03m# Now plot the trends\u001b[39;00m\n",
      "\u001b[0;31mNameError\u001b[0m: name 'validate_model' is not defined"
     ]
    }
   ],
   "source": [
    "import matplotlib.pyplot as plt\n",
    "\n",
    "# Assuming you have a function `byte_pair_encoding` that returns the vocabulary\n",
    "# and a function `validate_model` that returns a performance metric\n",
    "\n",
    "num_merges_options = [1000, 5000, 10000, 15000, 20000]  # Example merge options\n",
    "vocab_sizes = []\n",
    "validation_scores = []\n",
    "\n",
    "for num_merges in num_merges_options:\n",
    "    vocab = byte_pair_encoding(data, num_merges)\n",
    "    vocab_sizes.append(len(vocab))\n",
    "    \n",
    "    # Train your model here with the vocab and evaluate on the validation set\n",
    "    score = validate_model(model, validation_data)\n",
    "    validation_scores.append(score)\n",
    "\n",
    "# Now plot the trends\n",
    "plt.figure(figsize=(14, 7))\n",
    "\n",
    "plt.subplot(1, 2, 1)\n",
    "plt.plot(num_merges_options, vocab_sizes, marker='o')\n",
    "plt.title('Vocabulary Size vs. Number of Merges')\n",
    "plt.xlabel('Number of Merges')\n",
    "plt.ylabel('Vocabulary Size')\n",
    "\n",
    "plt.subplot(1, 2, 2)\n",
    "plt.plot(num_merges_options, validation_scores, marker='o', color='r')\n",
    "plt.title('Validation Score vs. Number of Merges')\n",
    "plt.xlabel('Number of Merges')\n",
    "plt.ylabel('Validation Score')\n",
    "\n",
    "plt.tight_layout()\n",
    "plt.show()"
   ]
  },
  {
   "cell_type": "code",
   "execution_count": 2,
   "metadata": {},
   "outputs": [],
   "source": [
    "text_bytes = 'this is a test'.encode('utf-8')"
   ]
  },
  {
   "cell_type": "code",
   "execution_count": 3,
   "metadata": {},
   "outputs": [
    {
     "name": "stdout",
     "output_type": "stream",
     "text": [
      "b'this is a test'\n"
     ]
    }
   ],
   "source": [
    "print(text_bytes)"
   ]
  },
  {
   "cell_type": "code",
   "execution_count": 4,
   "metadata": {},
   "outputs": [
    {
     "data": {
      "text/plain": [
       "[116, 104, 105, 115, 32, 105, 115, 32, 97, 32, 116, 101, 115, 116]"
      ]
     },
     "execution_count": 4,
     "metadata": {},
     "output_type": "execute_result"
    }
   ],
   "source": [
    "list(text_bytes)"
   ]
  },
  {
   "cell_type": "code",
   "execution_count": null,
   "metadata": {},
   "outputs": [],
   "source": []
  }
 ],
 "metadata": {
  "kernelspec": {
   "display_name": "Python 3",
   "language": "python",
   "name": "python3"
  },
  "language_info": {
   "codemirror_mode": {
    "name": "ipython",
    "version": 3
   },
   "file_extension": ".py",
   "mimetype": "text/x-python",
   "name": "python",
   "nbconvert_exporter": "python",
   "pygments_lexer": "ipython3",
   "version": "3.11.7"
  }
 },
 "nbformat": 4,
 "nbformat_minor": 2
}
