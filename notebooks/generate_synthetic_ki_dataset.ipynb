{
 "cells": [
  {
   "cell_type": "markdown",
   "id": "3142749a",
   "metadata": {
    "_cell_guid": "ebb8ffdd-0955-4a08-bfa3-3f0ec9f71691",
    "_uuid": "ec840392-58d7-4a7f-a24b-b1d10d523165",
    "jupyter": {
     "outputs_hidden": false
    },
    "papermill": {
     "duration": 0.009302,
     "end_time": "2024-06-26T20:12:30.295939",
     "exception": false,
     "start_time": "2024-06-26T20:12:30.286637",
     "status": "completed"
    },
    "tags": []
   },
   "source": [
    "# Generating a Synthetic Knowledge Dataset Using Generative AI\n",
    "\n",
    "In this notebook, we will be generating a synthetic dataset that we can specifically use for retrieval augmented generation (RAG) purposes. Specifically, what we will be generating is a corpus of documents representing **knowledge items** that one might find in a typical Fortune 500 companies IT helpdesk context. I will personally be leveraging my Perplexity subscription to generate the data, but you are welcome to use any LLM of your choosing."
   ]
  },
  {
   "cell_type": "markdown",
   "id": "f0865c18",
   "metadata": {
    "papermill": {
     "duration": 0.008461,
     "end_time": "2024-06-26T20:12:30.313654",
     "exception": false,
     "start_time": "2024-06-26T20:12:30.305193",
     "status": "completed"
    },
    "tags": []
   },
   "source": [
    "## Notebook Setup"
   ]
  },
  {
   "cell_type": "code",
   "execution_count": 2,
   "id": "e2353407",
   "metadata": {
    "execution": {
     "iopub.execute_input": "2024-06-26T20:15:05.980170Z",
     "iopub.status.busy": "2024-06-26T20:15:05.979717Z",
     "iopub.status.idle": "2024-06-26T20:15:09.247016Z",
     "shell.execute_reply": "2024-06-26T20:15:09.244196Z"
    },
    "papermill": {
     "duration": 3.295302,
     "end_time": "2024-06-26T20:15:09.251417",
     "exception": false,
     "start_time": "2024-06-26T20:15:05.956115",
     "status": "completed"
    },
    "tags": [],
    "trusted": false
   },
   "outputs": [],
   "source": [
    "# Importing the necessary Python libraries\n",
    "import os\n",
    "import pandas as pd\n",
    "from langchain.output_parsers import CommaSeparatedListOutputParser\n",
    "from langchain_core.prompts import PromptTemplate, ChatPromptTemplate, HumanMessagePromptTemplate\n",
    "from langchain_openai import ChatOpenAI, OpenAIEmbeddings\n",
    "# from ragas.testset.generator import TestsetGenerator"
   ]
  },
  {
   "cell_type": "code",
   "execution_count": 8,
   "id": "d8e9a048",
   "metadata": {
    "execution": {
     "iopub.execute_input": "2024-06-26T20:15:09.729869Z",
     "iopub.status.busy": "2024-06-26T20:15:09.729416Z",
     "iopub.status.idle": "2024-06-26T20:15:09.763471Z",
     "shell.execute_reply": "2024-06-26T20:15:09.762384Z"
    },
    "papermill": {
     "duration": 0.061495,
     "end_time": "2024-06-26T20:15:09.766695",
     "exception": false,
     "start_time": "2024-06-26T20:15:09.705200",
     "status": "completed"
    },
    "tags": [],
    "trusted": false
   },
   "outputs": [],
   "source": [
    "# Instantiating the chat model\n",
    "chat_model = ChatOpenAI(api_key = os.environ['OPENAI_API_KEY'],\n",
    "                        model = 'gpt-4o-mini')"
   ]
  },
  {
   "cell_type": "code",
   "execution_count": 9,
   "id": "a7142e39",
   "metadata": {},
   "outputs": [
    {
     "data": {
      "text/plain": [
       "AIMessage(content='The capital of Illinois is Springfield.', additional_kwargs={'refusal': None}, response_metadata={'token_usage': {'completion_tokens': 7, 'prompt_tokens': 14, 'total_tokens': 21, 'completion_tokens_details': {'accepted_prediction_tokens': 0, 'audio_tokens': 0, 'reasoning_tokens': 0, 'rejected_prediction_tokens': 0}, 'prompt_tokens_details': {'audio_tokens': 0, 'cached_tokens': 0}}, 'model_name': 'gpt-4o-mini-2024-07-18', 'system_fingerprint': 'fp_0705bf87c0', 'finish_reason': 'stop', 'logprobs': None}, id='run-16a37673-4c9d-41e1-a2d6-f42066498878-0', usage_metadata={'input_tokens': 14, 'output_tokens': 7, 'total_tokens': 21, 'input_token_details': {'audio': 0, 'cache_read': 0}, 'output_token_details': {'audio': 0, 'reasoning': 0}})"
      ]
     },
     "execution_count": 9,
     "metadata": {},
     "output_type": "execute_result"
    }
   ],
   "source": [
    "chat_model.invoke('What is the capital of Illinois?')"
   ]
  },
  {
   "cell_type": "markdown",
   "id": "b5436bb5",
   "metadata": {
    "papermill": {
     "duration": 0.021744,
     "end_time": "2024-06-26T20:15:09.811030",
     "exception": false,
     "start_time": "2024-06-26T20:15:09.789286",
     "status": "completed"
    },
    "tags": []
   },
   "source": [
    "## Prompt Engineering\n",
    "\n",
    "In this section, we'll set up the prompts that we will be using to generate our specific synthetic dataset. Specifically, we are going to need two separate prompts: one to generate the list of knowledge item topics and another to generate a body of text for a knowledge item given a specific knowledge item topic."
   ]
  },
  {
   "cell_type": "code",
   "execution_count": null,
   "id": "372d59d9",
   "metadata": {
    "execution": {
     "iopub.execute_input": "2024-06-26T20:15:09.857718Z",
     "iopub.status.busy": "2024-06-26T20:15:09.857310Z",
     "iopub.status.idle": "2024-06-26T20:15:09.864896Z",
     "shell.execute_reply": "2024-06-26T20:15:09.863718Z"
    },
    "papermill": {
     "duration": 0.034176,
     "end_time": "2024-06-26T20:15:09.867384",
     "exception": false,
     "start_time": "2024-06-26T20:15:09.833208",
     "status": "completed"
    },
    "tags": [],
    "trusted": false
   },
   "outputs": [],
   "source": [
    "# Creating the topic generation prompt\n",
    "TOPIC_GENERATION_PROMPT = '''You are the head of an IT helpdesk as part of a Fortune 500 company, and your company maintains a knowledge management system with articles used by helpdesk specialists to answer questions related to IT support. It does not matter what kind of Fortune 500 company this is. Each individual knowledge item in the knowledge management system has a title and supporting body of text. An example of a knowledge item title might be \"Resetting a User's Password.\" Please generate a list of 100 example knowledge item titles that might be found in your knowledge management system. Only include the list of the 100 examples. Do not provide any additional commentary. Please do not say something like \"Here are the 100 examples.\"'''\n",
    "\n",
    "# Creating the prompt to generate the knowledge item body of text\n",
    "KNOWLEDGE_ITEM_GENERATION_PROMPT = '''You are the head of an IT helpdesk as part of a Fortune 500 company, and your company maintains a knowledge management system with articles used by helpdesk specialists to answer questions related to IT support. It does not matter what kind of Fortune 500 company this is. Each individual knowledge item in the knowledge management system has a title and supporting body of text. Within triple backticks below is an example of a title of one of these knowledge items. Please write a body of text of steps that might be associated to the knowledge article. The body of text should be no longer than 1000 words. Only return the text that would be populated into the body of the knowledge article; do not return any other text.\n",
    "\n",
    "Knowledge item title:\n",
    "```\n",
    "{ki_title}\n",
    "```\n",
    "'''"
   ]
  },
  {
   "cell_type": "markdown",
   "id": "8ed0f2b1",
   "metadata": {
    "papermill": {
     "duration": 0.022941,
     "end_time": "2024-06-26T20:15:09.912949",
     "exception": false,
     "start_time": "2024-06-26T20:15:09.890008",
     "status": "completed"
    },
    "tags": []
   },
   "source": [
    "## Generating the Knowledge Item Topics\n",
    "Now that we have set our prompt engineering appropriately, we're ready to begin using it to generate the list of knowledge item topics. We will be leaning on LangChain to help with this. Specifically, we are going to chain together the prompt engineering, chat model itself, and a special parser that will take the output from the chat model and turn it into a Python list that we can iterate over."
   ]
  },
  {
   "cell_type": "code",
   "execution_count": null,
   "id": "6e1133bb",
   "metadata": {
    "execution": {
     "iopub.execute_input": "2024-06-26T20:15:09.961417Z",
     "iopub.status.busy": "2024-06-26T20:15:09.960956Z",
     "iopub.status.idle": "2024-06-26T20:15:09.968111Z",
     "shell.execute_reply": "2024-06-26T20:15:09.966777Z"
    },
    "papermill": {
     "duration": 0.034368,
     "end_time": "2024-06-26T20:15:09.971089",
     "exception": false,
     "start_time": "2024-06-26T20:15:09.936721",
     "status": "completed"
    },
    "tags": [],
    "trusted": false
   },
   "outputs": [],
   "source": [
    "# Instantiating the output parser\n",
    "output_parser = CommaSeparatedListOutputParser()\n",
    "\n",
    "# Setting up the chat prompt template\n",
    "ki_topic_generation_prompt_template = PromptTemplate(\n",
    "    template = '{ki_topic_generation_prompt}\\n{format_instructions}',\n",
    "    input_variables = ['ki_topic_generation_prompt'],\n",
    "    partial_variables = {'format_instructions': output_parser.get_format_instructions()}\n",
    ")"
   ]
  },
  {
   "cell_type": "code",
   "execution_count": null,
   "id": "5b49cd03",
   "metadata": {
    "execution": {
     "iopub.execute_input": "2024-06-26T20:15:10.020076Z",
     "iopub.status.busy": "2024-06-26T20:15:10.019419Z",
     "iopub.status.idle": "2024-06-26T20:15:10.025745Z",
     "shell.execute_reply": "2024-06-26T20:15:10.024310Z"
    },
    "papermill": {
     "duration": 0.035372,
     "end_time": "2024-06-26T20:15:10.028826",
     "exception": false,
     "start_time": "2024-06-26T20:15:09.993454",
     "status": "completed"
    },
    "tags": [],
    "trusted": false
   },
   "outputs": [],
   "source": [
    "# Chaining the KI topic generation prompt template, chat model, and output parser\n",
    "ki_topic_generation_chain = ki_topic_generation_prompt_template | chat_model | output_parser"
   ]
  },
  {
   "cell_type": "markdown",
   "id": "87bf1573",
   "metadata": {
    "papermill": {
     "duration": 0.02308,
     "end_time": "2024-06-26T20:15:10.075327",
     "exception": false,
     "start_time": "2024-06-26T20:15:10.052247",
     "status": "completed"
    },
    "tags": []
   },
   "source": [
    "(Note: The following cell has been intentionally commented out for officially saving a new version of the notebook to Kaggle. To use, simply uncomment!)"
   ]
  },
  {
   "cell_type": "code",
   "execution_count": null,
   "id": "db66e3e5",
   "metadata": {
    "execution": {
     "iopub.execute_input": "2024-06-26T20:15:10.124248Z",
     "iopub.status.busy": "2024-06-26T20:15:10.123845Z",
     "iopub.status.idle": "2024-06-26T20:15:10.130358Z",
     "shell.execute_reply": "2024-06-26T20:15:10.128667Z"
    },
    "papermill": {
     "duration": 0.032867,
     "end_time": "2024-06-26T20:15:10.133146",
     "exception": false,
     "start_time": "2024-06-26T20:15:10.100279",
     "status": "completed"
    },
    "tags": [],
    "trusted": false
   },
   "outputs": [],
   "source": [
    "# # Generating the KI topics list\n",
    "# ki_topics_list = ki_topic_generation_chain.invoke({\n",
    "#     'ki_topic_generation_prompt': TOPIC_GENERATION_PROMPT\n",
    "# })\n",
    "\n",
    "# # Slimming down the list to ensure there are only a specific amount of topics\n",
    "# ki_topics_list = ki_topics_list[-100:]\n",
    "\n",
    "# # Creating a Pandas DataFrame around the topics list\n",
    "# df_knowledge_items = pd.DataFrame(data = {'ki_topic': ki_topics_list})\n",
    "\n",
    "# # Prepping to add the KI text\n",
    "# df_knowledge_items['ki_text'] = ''\n",
    "\n",
    "# # Saving the knowledge item topics\n",
    "# df_knowledge_items.to_csv('synthetic_ki_topics.csv', index = False)"
   ]
  },
  {
   "cell_type": "markdown",
   "id": "2f64ea30",
   "metadata": {
    "execution": {
     "iopub.execute_input": "2024-05-18T23:06:58.930868Z",
     "iopub.status.busy": "2024-05-18T23:06:58.930233Z",
     "iopub.status.idle": "2024-05-18T23:06:58.945285Z",
     "shell.execute_reply": "2024-05-18T23:06:58.943908Z",
     "shell.execute_reply.started": "2024-05-18T23:06:58.930835Z"
    },
    "papermill": {
     "duration": 0.022952,
     "end_time": "2024-06-26T20:15:10.178320",
     "exception": false,
     "start_time": "2024-06-26T20:15:10.155368",
     "status": "completed"
    },
    "tags": []
   },
   "source": [
    "## Generating the Knowledge Item Text\n",
    "Now that we have generated our list of topics, we are ready to produce text per each knowledge item topics. Now, I'm honestly a bit worried about something erroring out as we get into this, so to ensure that we're not re-doing work that we've already done, we're going to be constantly saving this text back to `df_knowledge_items` so that if we have to re-do anything, we'll simply skip over the stuff already completed."
   ]
  },
  {
   "cell_type": "markdown",
   "id": "6222d306",
   "metadata": {
    "papermill": {
     "duration": 0.023756,
     "end_time": "2024-06-26T20:15:10.225230",
     "exception": false,
     "start_time": "2024-06-26T20:15:10.201474",
     "status": "completed"
    },
    "tags": []
   },
   "source": [
    "(Note: The following cell has been intentionally commented out for officially saving a new version of the notebook to Kaggle. To use, simply uncomment!)"
   ]
  },
  {
   "cell_type": "code",
   "execution_count": null,
   "id": "e44a475a",
   "metadata": {
    "execution": {
     "iopub.execute_input": "2024-06-26T20:15:10.276976Z",
     "iopub.status.busy": "2024-06-26T20:15:10.276493Z",
     "iopub.status.idle": "2024-06-26T20:15:10.282769Z",
     "shell.execute_reply": "2024-06-26T20:15:10.281244Z"
    },
    "papermill": {
     "duration": 0.037257,
     "end_time": "2024-06-26T20:15:10.286274",
     "exception": false,
     "start_time": "2024-06-26T20:15:10.249017",
     "status": "completed"
    },
    "tags": [],
    "trusted": false
   },
   "outputs": [],
   "source": [
    "# Loading the knowledge item topics back in from the checkpoint file\n",
    "# df_knowledge_items = pd.read_csv('synthetic_ki_topics.csv')\n",
    "# df_knowledge_items['ki_text'] = ''"
   ]
  },
  {
   "cell_type": "code",
   "execution_count": null,
   "id": "433e8bdd",
   "metadata": {
    "execution": {
     "iopub.execute_input": "2024-06-26T20:15:10.337648Z",
     "iopub.status.busy": "2024-06-26T20:15:10.337243Z",
     "iopub.status.idle": "2024-06-26T20:15:10.344144Z",
     "shell.execute_reply": "2024-06-26T20:15:10.342498Z"
    },
    "papermill": {
     "duration": 0.037315,
     "end_time": "2024-06-26T20:15:10.346631",
     "exception": false,
     "start_time": "2024-06-26T20:15:10.309316",
     "status": "completed"
    },
    "tags": [],
    "trusted": false
   },
   "outputs": [],
   "source": [
    "# Creating the prompt engineering template to generate the knowledge item text\n",
    "ki_text_generation_prompt = ChatPromptTemplate.from_messages(messages = [\n",
    "    HumanMessagePromptTemplate.from_template(template = KNOWLEDGE_ITEM_GENERATION_PROMPT)\n",
    "])\n",
    "\n",
    "# Creating the inference chain to generate the knowledge item text\n",
    "ki_text_chain = ki_text_generation_prompt | chat_model"
   ]
  },
  {
   "cell_type": "code",
   "execution_count": null,
   "id": "a78c0120",
   "metadata": {
    "execution": {
     "iopub.execute_input": "2024-06-26T20:15:10.395022Z",
     "iopub.status.busy": "2024-06-26T20:15:10.394565Z",
     "iopub.status.idle": "2024-06-26T20:15:10.402042Z",
     "shell.execute_reply": "2024-06-26T20:15:10.400684Z"
    },
    "papermill": {
     "duration": 0.03427,
     "end_time": "2024-06-26T20:15:10.404791",
     "exception": false,
     "start_time": "2024-06-26T20:15:10.370521",
     "status": "completed"
    },
    "tags": [],
    "trusted": false
   },
   "outputs": [],
   "source": [
    "def generate_ki_text(row):\n",
    "    '''\n",
    "    Generates simulated knowledge item text per a given knowledge item topic\n",
    "    \n",
    "    Inputs:\n",
    "        - row (Pandas DataFrame record): A single record from the Pandas DataFrame\n",
    "        \n",
    "    Returns:\n",
    "        - ki_text (str): The knowledge item text generated by the AI model per the record\n",
    "    '''\n",
    "    \n",
    "    # Checking to see if the knowledge item text has already been generated\n",
    "    if row['ki_text'] == '':\n",
    "        \n",
    "        # Generating the knowledge item text\n",
    "        ki_text = ki_text_chain.invoke({'ki_title': row['ki_topic']}).content\n",
    "        \n",
    "        return ki_text\n",
    "    \n",
    "    else:\n",
    "        \n",
    "        # Returning what is already in place if the string is not empty\n",
    "        return row['ki_text']"
   ]
  },
  {
   "cell_type": "markdown",
   "id": "4fc6a39f",
   "metadata": {
    "papermill": {
     "duration": 0.023385,
     "end_time": "2024-06-26T20:15:10.451946",
     "exception": false,
     "start_time": "2024-06-26T20:15:10.428561",
     "status": "completed"
    },
    "tags": []
   },
   "source": [
    "(Note: The following cell has been intentionally commented out for officially saving a new version of the notebook to Kaggle. To use, simply uncomment!)"
   ]
  },
  {
   "cell_type": "code",
   "execution_count": null,
   "id": "0001d37b",
   "metadata": {
    "execution": {
     "iopub.execute_input": "2024-06-26T20:15:10.500275Z",
     "iopub.status.busy": "2024-06-26T20:15:10.499005Z",
     "iopub.status.idle": "2024-06-26T20:15:10.505003Z",
     "shell.execute_reply": "2024-06-26T20:15:10.503472Z"
    },
    "papermill": {
     "duration": 0.033146,
     "end_time": "2024-06-26T20:15:10.507824",
     "exception": false,
     "start_time": "2024-06-26T20:15:10.474678",
     "status": "completed"
    },
    "tags": [],
    "trusted": false
   },
   "outputs": [],
   "source": [
    "# # Generating the knowledge item text for any topic that hasn't already been accounted for\n",
    "# df_knowledge_items['ki_text'] = df_knowledge_items.apply(generate_ki_text, axis = 1)\n",
    "\n",
    "# # Saving out the final dataset\n",
    "# df_knowledge_items.to_csv('synthetic_knowledge_items.csv', index = False)"
   ]
  },
  {
   "cell_type": "markdown",
   "id": "33a20357",
   "metadata": {
    "papermill": {
     "duration": 0.022277,
     "end_time": "2024-06-26T20:15:10.552132",
     "exception": false,
     "start_time": "2024-06-26T20:15:10.529855",
     "status": "completed"
    },
    "tags": []
   },
   "source": [
    "## Alternative Knowledge Item Text\n",
    "To demonstrate the potential complications around comingling similar knowledge items in the same index, we will be adding a new set of alternative knowledge item text."
   ]
  },
  {
   "cell_type": "code",
   "execution_count": null,
   "id": "8e902800",
   "metadata": {
    "execution": {
     "iopub.execute_input": "2024-06-26T20:15:10.664583Z",
     "iopub.status.busy": "2024-06-26T20:15:10.664173Z",
     "iopub.status.idle": "2024-06-26T20:15:10.669285Z",
     "shell.execute_reply": "2024-06-26T20:15:10.668168Z"
    },
    "papermill": {
     "duration": 0.030844,
     "end_time": "2024-06-26T20:15:10.671796",
     "exception": false,
     "start_time": "2024-06-26T20:15:10.640952",
     "status": "completed"
    },
    "tags": [],
    "trusted": false
   },
   "outputs": [],
   "source": [
    "# Loading the original data from file\n",
    "# df_knowledge_items = pd.read_csv('/kaggle/input/synthetic-it-related-knowledge-items/synthetic_knowledge_items.csv')\n",
    "# df_knowledge_items['alt_ki_text'] = ''"
   ]
  },
  {
   "cell_type": "code",
   "execution_count": null,
   "id": "ff218045",
   "metadata": {
    "execution": {
     "iopub.execute_input": "2024-06-26T20:15:10.717279Z",
     "iopub.status.busy": "2024-06-26T20:15:10.716901Z",
     "iopub.status.idle": "2024-06-26T20:15:10.723000Z",
     "shell.execute_reply": "2024-06-26T20:15:10.721868Z"
    },
    "papermill": {
     "duration": 0.031757,
     "end_time": "2024-06-26T20:15:10.725403",
     "exception": false,
     "start_time": "2024-06-26T20:15:10.693646",
     "status": "completed"
    },
    "tags": [],
    "trusted": false
   },
   "outputs": [],
   "source": [
    "# Creating the prompt to generate the alternative knowledge item body of text\n",
    "ALT_KNOWLEDGE_ITEM_GENERATION_PROMPT = '''You are the head of an IT helpdesk as part of a fake Fortune 500 company called \"Widgetco\", and your company maintains a knowledge management system with articles used by helpdesk specialists to answer questions related to IT support. It does not matter what kind of company this is. Each individual knowledge item in the knowledge management system has a title and supporting body of text. Within triple backticks below is an example of a title of one of these knowledge items. Please write a body of text of steps that might be associated to the knowledge article. The body of text should be no longer than 1000 words. Only return the text that would be populated into the body of the knowledge article; do not return any other text. Please also ensure the company name, \"Widgetco\", is referenced at least once in the body of the knowledge article text.\n",
    "\n",
    "Knowledge item title:\n",
    "```\n",
    "{ki_title}\n",
    "```\n",
    "'''"
   ]
  },
  {
   "cell_type": "code",
   "execution_count": null,
   "id": "0f299be5",
   "metadata": {
    "execution": {
     "iopub.execute_input": "2024-06-26T20:15:10.771675Z",
     "iopub.status.busy": "2024-06-26T20:15:10.771270Z",
     "iopub.status.idle": "2024-06-26T20:15:10.777780Z",
     "shell.execute_reply": "2024-06-26T20:15:10.776634Z"
    },
    "papermill": {
     "duration": 0.032801,
     "end_time": "2024-06-26T20:15:10.780361",
     "exception": false,
     "start_time": "2024-06-26T20:15:10.747560",
     "status": "completed"
    },
    "tags": [],
    "trusted": false
   },
   "outputs": [],
   "source": [
    "# Creating the prompt engineering template to generate the knowledge item text\n",
    "alt_ki_text_generation_prompt = ChatPromptTemplate.from_messages(messages = [\n",
    "    HumanMessagePromptTemplate.from_template(template = ALT_KNOWLEDGE_ITEM_GENERATION_PROMPT)\n",
    "])\n",
    "\n",
    "# Creating the inference chain to generate the knowledge item text\n",
    "alt_ki_text_chain = alt_ki_text_generation_prompt | chat_model"
   ]
  },
  {
   "cell_type": "code",
   "execution_count": null,
   "id": "9e95de95",
   "metadata": {
    "execution": {
     "iopub.execute_input": "2024-06-26T20:15:10.827126Z",
     "iopub.status.busy": "2024-06-26T20:15:10.826180Z",
     "iopub.status.idle": "2024-06-26T20:15:10.833034Z",
     "shell.execute_reply": "2024-06-26T20:15:10.831955Z"
    },
    "papermill": {
     "duration": 0.032858,
     "end_time": "2024-06-26T20:15:10.835685",
     "exception": false,
     "start_time": "2024-06-26T20:15:10.802827",
     "status": "completed"
    },
    "tags": [],
    "trusted": false
   },
   "outputs": [],
   "source": [
    "def generate_alt_ki_text(row):\n",
    "    '''\n",
    "    Generates simulated alternative knowledge item text per a given knowledge item topic\n",
    "    \n",
    "    Inputs:\n",
    "        - row (Pandas DataFrame record): A single record from the Pandas DataFrame\n",
    "        \n",
    "    Returns:\n",
    "        - alt_ki_text (str): The alternative knowledge item text generated by the AI model per the record\n",
    "    '''\n",
    "    \n",
    "    # Checking to see if the knowledge item text has already been generated\n",
    "    if row['alt_ki_text'] == '':\n",
    "        \n",
    "        # Generating the knowledge item text\n",
    "        alt_ki_text = alt_ki_text_chain.invoke({'ki_title': row['ki_topic']}).content\n",
    "        \n",
    "        return alt_ki_text\n",
    "    \n",
    "    else:\n",
    "        \n",
    "        # Returning what is already in place if the string is not empty\n",
    "        return row['alt_ki_text']"
   ]
  },
  {
   "cell_type": "markdown",
   "id": "5f623a5f",
   "metadata": {
    "papermill": {
     "duration": 0.02187,
     "end_time": "2024-06-26T20:15:10.879559",
     "exception": false,
     "start_time": "2024-06-26T20:15:10.857689",
     "status": "completed"
    },
    "tags": []
   },
   "source": [
    "(Note: The following cell has been intentionally commented out for officially saving a new version of the notebook to Kaggle. To use, simply uncomment!)"
   ]
  },
  {
   "cell_type": "code",
   "execution_count": null,
   "id": "b90aaa5b",
   "metadata": {
    "execution": {
     "iopub.execute_input": "2024-06-26T20:15:10.925600Z",
     "iopub.status.busy": "2024-06-26T20:15:10.925183Z",
     "iopub.status.idle": "2024-06-26T20:15:10.930429Z",
     "shell.execute_reply": "2024-06-26T20:15:10.929224Z"
    },
    "papermill": {
     "duration": 0.031661,
     "end_time": "2024-06-26T20:15:10.933133",
     "exception": false,
     "start_time": "2024-06-26T20:15:10.901472",
     "status": "completed"
    },
    "tags": [],
    "trusted": false
   },
   "outputs": [],
   "source": [
    "# # Generating the alt knowledge item text for any topic that hasn't already been accounted for\n",
    "# df_knowledge_items['alt_ki_text'] = df_knowledge_items.apply(generate_alt_ki_text, axis = 1)\n",
    "\n",
    "# # Saving out the final dataset\n",
    "# df_knowledge_items.to_csv('synthetic_knowledge_items.csv', index = False)"
   ]
  },
  {
   "cell_type": "markdown",
   "id": "4773c4cd",
   "metadata": {},
   "source": [
    "## \"Bad\" Knowledge Item Text\n",
    "For another purpose, I want to compare what it's like to have a quality knowledge item as compared to a poorly written (or \"bad\") knowledge item."
   ]
  },
  {
   "cell_type": "code",
   "execution_count": 10,
   "id": "94aee9f1",
   "metadata": {},
   "outputs": [],
   "source": [
    "# Loading the data\n",
    "df_knowledge_items = pd.read_csv('../data/synthetic_knowledge_items.csv')"
   ]
  },
  {
   "cell_type": "code",
   "execution_count": 12,
   "id": "21b0336b",
   "metadata": {},
   "outputs": [],
   "source": [
    "# Creating the prompt to generate a bad knowledge article\n",
    "BAD_KI_PROMPT = '''Write a poorly written IT knowledge base article about {ki_topic}. ake it sound like it was hastily written by someone with limited technical writing skills. Include spelling mistakes, run-on sentences, and unclear instructions.Consider including the following characteristics:\n",
    "\n",
    "\t•\tUse inconsistent technical terminology\n",
    "\t•\tInclude run-on sentences with poor grammar\n",
    "\t•\tMix formal and casual language inappropriately\n",
    "\t•\tLeave out important steps\n",
    "\t•\tInclude irrelevant tangents\n",
    "\t•\tUse vague instructions\n",
    "\t•\tAdd unnecessary repetition\n",
    "\t•\tInclude spelling errors\n",
    "\t•\tUse minimal formatting or structure\n",
    "\t•\tUse inconsistent capitalization of technical terms\n",
    "    •\tRefer to prerequisites that are unmentioned in the article but probably should be \n",
    "\n",
    "As a reminder, this is the topic of the article you are writing: {ki_topic}.\n",
    "\n",
    "Your article:\n",
    "'''"
   ]
  },
  {
   "cell_type": "code",
   "execution_count": 13,
   "id": "9165d7fa",
   "metadata": {},
   "outputs": [],
   "source": [
    "# Creating the prompt engineering template to generate the knowledge item text\n",
    "bad_ki_prompt_template = ChatPromptTemplate.from_messages(messages = [\n",
    "    HumanMessagePromptTemplate.from_template(template = BAD_KI_PROMPT)\n",
    "])\n",
    "\n",
    "# Creating the inference chain to generate the knowledge item text\n",
    "bad_ki_chain = bad_ki_prompt_template | chat_model"
   ]
  },
  {
   "cell_type": "code",
   "execution_count": 16,
   "id": "a4f45609",
   "metadata": {},
   "outputs": [],
   "source": [
    "def generate_bad_ki_text(row):\n",
    "    '''\n",
    "    Generates simulated bad knowledge item text per a given knowledge item topic\n",
    "    \n",
    "    Inputs:\n",
    "        - row (Pandas DataFrame record): A single record from the Pandas DataFrame\n",
    "        \n",
    "    Returns:\n",
    "        - bad_ki_text (str): The bad knowledge item text generated by the AI model per the record\n",
    "    '''\n",
    "    \n",
    "    # Checking to see if the knowledge item text has already been generated\n",
    "    if row['bad_ki_text'] == '':\n",
    "        \n",
    "        # Generating the knowledge item text\n",
    "        bad_ki_text = bad_ki_chain.invoke({'ki_topic': row['ki_topic']}).content\n",
    "        \n",
    "        return bad_ki_text\n",
    "    \n",
    "    else:\n",
    "        \n",
    "        # Returning what is already in place if the string is not empty\n",
    "        return row['bad_ki_text']"
   ]
  },
  {
   "cell_type": "code",
   "execution_count": 17,
   "id": "4fd641bc",
   "metadata": {},
   "outputs": [],
   "source": [
    "# df_knowledge_items['bad_ki_text'] = ''\n",
    "\n",
    "# # Generating the bad knowledge item text for any topic that hasn't already been accounted for\n",
    "# df_knowledge_items['bad_ki_text'] = df_knowledge_items.apply(generate_bad_ki_text, axis = 1)\n",
    "\n",
    "# # Saving out the final dataset\n",
    "# df_knowledge_items.to_csv('../data/synthetic_knowledge_items.csv', index = False)"
   ]
  },
  {
   "cell_type": "code",
   "execution_count": null,
   "id": "cb9f8f67",
   "metadata": {},
   "outputs": [],
   "source": []
  },
  {
   "cell_type": "code",
   "execution_count": null,
   "id": "d634514a",
   "metadata": {},
   "outputs": [],
   "source": []
  }
 ],
 "metadata": {
  "kaggle": {
   "accelerator": "none",
   "dataSources": [
    {
     "datasetId": 5104322,
     "sourceId": 8543535,
     "sourceType": "datasetVersion"
    },
    {
     "sourceId": 178377740,
     "sourceType": "kernelVersion"
    },
    {
     "sourceId": 180669035,
     "sourceType": "kernelVersion"
    }
   ],
   "dockerImageVersionId": 30698,
   "isGpuEnabled": false,
   "isInternetEnabled": true,
   "language": "python",
   "sourceType": "notebook"
  },
  "kernelspec": {
   "display_name": "Python 3",
   "language": "python",
   "name": "python3"
  },
  "language_info": {
   "codemirror_mode": {
    "name": "ipython",
    "version": 3
   },
   "file_extension": ".py",
   "mimetype": "text/x-python",
   "name": "python",
   "nbconvert_exporter": "python",
   "pygments_lexer": "ipython3",
   "version": "3.11.10"
  },
  "papermill": {
   "default_parameters": {},
   "duration": 165.00069,
   "end_time": "2024-06-26T20:15:11.879444",
   "environment_variables": {},
   "exception": null,
   "input_path": "__notebook__.ipynb",
   "output_path": "__notebook__.ipynb",
   "parameters": {},
   "start_time": "2024-06-26T20:12:26.878754",
   "version": "2.5.0"
  }
 },
 "nbformat": 4,
 "nbformat_minor": 5
}
