{
 "cells": [
  {
   "cell_type": "markdown",
   "metadata": {},
   "source": [
    "# Readability Metrics\n",
    "This notebook will introduce an overview of readability metrics and how to use them in Python. Readability metrics are used to measure how easy it is to read a text. They are used in various fields, such as education, linguistics, and natural language processing. In this notebook, we will cover the following topics:\n",
    "- What are readability metrics?\n",
    "- How to calculate readability metrics in Python\n",
    "- How to interpret the results of readability metrics\n",
    "- How to use readability metrics in practice\n",
    "\n",
    "## What are readability metrics?\n",
    "Readability metrics are quantitative measures that are used to assess the readability of a text. They are used to evaluate how easy or difficult it is to read and understand a text. Readability metrics are based on various linguistic and cognitive factors, such as sentence length, word length, and vocabulary complexity.\n",
    "\n",
    "There are many different readability metrics, each with its own formula and interpretation. Some of the most commonly used readability metrics include:\n",
    "\n",
    "- **Flesch Reading Ease**: This metric measures the readability of a text on a scale from 0 to 100, with higher scores indicating easier readability. The formula for the Flesch Reading Ease score is:\n",
    "\n",
    "  $206.835 - 1.015 \\times \\text{average words per sentence} - 84.6 \\times \\text{average syllables per word}$\n",
    "  \n",
    "- **Flesch-Kincaid Grade Level**: This metric estimates the grade level required to understand a text. The formula for the Flesch-Kincaid Grade Level is:\n",
    "\n",
    "  $0.39 \\times \\text{average words per sentence} + 11.8 \\times \\text{average syllables per word} - 15.59$\n",
    "  \n",
    "- **Gunning Fog Index**: This metric estimates the years of formal education required to understand a text. The formula for the Gunning Fog Index is:\n",
    "\n",
    "  $0.4 \\times (\\text{average words per sentence} + 100 \\times \\text{percentage of complex words})$\n",
    "  \n",
    "- **Coleman-Liau Index**: This metric estimates the grade level required to understand a text. The formula for the Coleman-Liau Index is:\n",
    "\n",
    "  $0.0588 \\times \\text{average letters per 100 words} - 0.296 \\times \\text{average sentences per 100 words} - 15.8$\n",
    "  \n",
    "- **Automated Readability Index (ARI)**: This metric estimates the grade level required to understand a text. The formula for the ARI is:\n",
    "\n",
    "  $4.71 \\times \\text{average characters per word} + 0.5 \\times \\text{average words per sentence} - 21.43$\n",
    "  \n",
    "- **Simple Measure of Gobbledygook (SMOG)**: This metric estimates the years of formal education required to understand a text. The formula for the SMOG is:\n",
    "\n",
    "  $1.043 \\times \\sqrt{\\text{number of complex words} \\times \\frac{30}{\\text{number of sentences}}} + 3.1291$\n",
    "  \n",
    "- **Dale-Chall Readability Score**: This metric estimates the grade level required to understand a text. The formula for the Dale-Chall Readability Score is:\n",
    "\n",
    "  $0.1579 \\times (\\text{percentage of difficult words} + 0.0496 \\times \\text{average words per sentence})$\n",
    "  \n",
    "- **Spache Readability Formula**: This metric estimates the grade level required to understand a text. The formula for the Spache Readability Formula is:\n",
    "\n",
    "  $0.121 \\times \\text{average sentence length} + 0.082 \\times \\text{average syllables per word} - 0.659$\n",
    "  \n",
    "- **Linsear Write Formula**: This metric estimates the grade level required to understand a text. The formula for the Linsear Write Formula is:\n",
    "\n",
    "  $\\frac{(\\text{number of easy words} + \\text{number of hard words}) \\times 2}{\\text{number of sentences}} - 2$\n",
    "  \n",
    "- **FORCAST Readability Formula**: This metric estimates the grade level required to understand a text. The formula for the FORCAST Readability Formula is:\n",
    "\n",
    "  $20 - \\frac{\\text{number of syllables} \\times 0.1}{\\text{number of sentences}}$\n",
    "  \n",
    "- **Raygor Readability Estimate**: This metric estimates the grade level required to understand a text. The formula for the Raygor Readability Estimate is:\n",
    "\n",
    "  $0.1579 \\times \\text{average words per sentence} + 0.0496 \\times \\text{percentage of difficult words} + 3.6365$\n",
    "  \n",
    "- **LIX Readability Formula**: This metric estimates the grade level required to understand a text. The formula for the LIX Readability Formula is:\n",
    "\n",
    "  $\\frac{\\text{number of words}}{\\text{number of sentences}} + \\frac{\\text{number of long words} \\times 100}{\\text{number of words}}$\n",
    "  \n",
    "- **RIX Readability Formula**: This metric estimates the grade level required to understand a text. The formula for the RIX Readability Formula is:\n",
    "\n",
    "  $\\frac{\\text{number of long words}}{\\text{number of sentences}}$\n",
    "  \n",
    "- **Strain Index**: This metric estimates the grade level required to understand a text. The formula for the Strain Index is:\n",
    "\n",
    "  $\\frac{\\text{number of long words} \\times 100}{\\text{number of sentences}}$\n",
    "  \n",
    "- **Readability Consensus Grade**: This metric estimates the grade level required to understand a text. The formula for the Readability Consensus Grade is:\n",
    "\n",
    "  $\\frac{\\text{Flesch-Kincaid Grade Level} + \\text{Gunning Fog Index} + \\text{Coleman-Liau Index} + \\text{Automated Readability Index} + \\text{SMOG} + \\text{Dale-Chall Readability Score} + \\text{Spache Readability Formula} + \\text{New Dale-Chall Readability Score} + \\text{Linsear Write Formula} + \\text{FORCAST Readability Formula} + \\text{Raygor Readability Estimate} + \\text{LIX Readability Formula} + \\text{RIX Readability Formula} + \\text{Strain Index}}{14}$"
   ]
  },
  {
   "cell_type": "markdown",
   "metadata": {},
   "source": [
    "## Notebook Setup\n",
    "To keep things simple for ourselves, "
   ]
  },
  {
   "cell_type": "markdown",
   "metadata": {},
   "source": [
    "## Calculating Each Readability Metric\n"
   ]
  }
 ],
 "metadata": {
  "kernelspec": {
   "display_name": "Python 3",
   "language": "python",
   "name": "python3"
  },
  "language_info": {
   "name": "python",
   "version": "3.11.10"
  }
 },
 "nbformat": 4,
 "nbformat_minor": 2
}
