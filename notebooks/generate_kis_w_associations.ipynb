{
 "cells": [
  {
   "cell_type": "markdown",
   "metadata": {},
   "source": [
    "# Generating Knowledge Items with Associated Tools\n",
    "Throughout this series, we have been making use of a synthetic dataset containing 100 knowledge items that you might find in a typical enterprise's knowledge database. In the real world, what often happens is that knowledge items contain assumptions about internal proprietary tools that an LLM may not have knowledge about. This is fine for a human reading these knowledge items, assuming the human has common knowledge about the tools being referred to. However, for an LLM to be able to understand these knowledge items, it needs to be able to associate the knowledge items with the tools they refer to.\n",
    "\n",
    "In this notebook, we'll be creating a new synthetic dataset that simulates this issue. This new synthetic dataset will contain 100 knowledge items, each associated with at least one proprietary tool."
   ]
  },
  {
   "cell_type": "markdown",
   "metadata": {},
   "source": [
    "## Notebook Setup\n",
    "In this section, we'll set ourselves up for succcess by installing the necessary libraries and loading our API key for the LLM API. In my case, I'm simply going to make use of my personal Perplexity Pro subscription given that I get $5 in credits each month!"
   ]
  },
  {
   "cell_type": "code",
   "execution_count": 3,
   "metadata": {},
   "outputs": [],
   "source": [
    "# Importing the necessary Python libraries\n",
    "import os\n",
    "import pandas as pd\n",
    "from langchain.output_parsers import CommaSeparatedListOutputParser\n",
    "from langchain_core.prompts import PromptTemplate, ChatPromptTemplate, HumanMessagePromptTemplate\n",
    "from langchain_openai import ChatOpenAI, OpenAIEmbeddings\n",
    "from ragas.testset.generator import TestsetGenerator"
   ]
  },
  {
   "cell_type": "code",
   "execution_count": null,
   "metadata": {},
   "outputs": [],
   "source": []
  }
 ],
 "metadata": {
  "kernelspec": {
   "display_name": "Python 3",
   "language": "python",
   "name": "python3"
  },
  "language_info": {
   "name": "python",
   "version": "3.11.10"
  }
 },
 "nbformat": 4,
 "nbformat_minor": 2
}
