{
 "cells": [
  {
   "cell_type": "code",
   "execution_count": 1,
   "metadata": {},
   "outputs": [
    {
     "name": "stderr",
     "output_type": "stream",
     "text": [
      "/home/vscode/.local/lib/python3.11/site-packages/tqdm/auto.py:21: TqdmWarning: IProgress not found. Please update jupyter and ipywidgets. See https://ipywidgets.readthedocs.io/en/stable/user_install.html\n",
      "  from .autonotebook import tqdm as notebook_tqdm\n"
     ]
    }
   ],
   "source": [
    "# Importing the necessary Python libraries\n",
    "import json\n",
    "import time\n",
    "import yaml\n",
    "\n",
    "import numpy as np\n",
    "import pandas as pd\n",
    "import matplotlib.pyplot as plt\n",
    "\n",
    "from datasets import Dataset\n",
    "from langchain.vectorstores import FAISS\n",
    "from langchain_core.prompts import ChatPromptTemplate, HumanMessagePromptTemplate\n",
    "from langchain_community.document_loaders import DataFrameLoader\n",
    "from langchain_experimental.text_splitter import SemanticChunker\n",
    "from langchain_openai import ChatOpenAI, OpenAIEmbeddings\n",
    "from langchain_text_splitters import RecursiveCharacterTextSplitter"
   ]
  },
  {
   "cell_type": "code",
   "execution_count": 2,
   "metadata": {},
   "outputs": [],
   "source": [
    "df_kis = pd.read_csv('../data/synthetic_knowledge_items.csv')\n",
    "df_validation = pd.read_csv('../data/rag_sample_qas_from_kis.csv')"
   ]
  },
  {
   "cell_type": "code",
   "execution_count": 8,
   "metadata": {},
   "outputs": [],
   "source": [
    "embedding_model = OpenAIEmbeddings(model = 'text-embedding-3-small')\n",
    "adv_embedding_model = OpenAIEmbeddings(model = 'text-embedding-3-large')"
   ]
  },
  {
   "cell_type": "code",
   "execution_count": 14,
   "metadata": {},
   "outputs": [],
   "source": [
    "text_1 = df_kis.iloc[0]['ki_text']\n",
    "text_2 = df_kis.iloc[0]['alt_ki_text']"
   ]
  },
  {
   "cell_type": "code",
   "execution_count": 15,
   "metadata": {},
   "outputs": [],
   "source": [
    "embedding_1 = adv_embedding_model.embed_query(text_1)\n",
    "embedding_2 = adv_embedding_model.embed_query(text_2)"
   ]
  },
  {
   "cell_type": "code",
   "execution_count": 16,
   "metadata": {},
   "outputs": [
    {
     "data": {
      "text/plain": [
       "0.8453851956200121"
      ]
     },
     "execution_count": 16,
     "metadata": {},
     "output_type": "execute_result"
    }
   ],
   "source": [
    "def cosine_similarity(a, b):\n",
    "    return np.dot(a, b) / (np.linalg.norm(a) * np.linalg.norm(b))\n",
    "\n",
    "cosine_similarity(embedding_1, embedding_2)"
   ]
  },
  {
   "cell_type": "code",
   "execution_count": 17,
   "metadata": {},
   "outputs": [
    {
     "name": "stdout",
     "output_type": "stream",
     "text": [
      "                                              ki_topic         text_type  \\\n",
      "0         Setting Up a Mobile Device for Company Email       normal text   \n",
      "1                            Resetting a Forgotten PIN       normal text   \n",
      "2            Configuring VPN Access for Remote Workers       normal text   \n",
      "3         Troubleshooting Issues with Microsoft Office       normal text   \n",
      "4          Setting Up a Conference Call on Cisco Webex       normal text   \n",
      "..                                                 ...               ...   \n",
      "195         Setting Up a New User's Account in Dropbox  alternative text   \n",
      "196                          Creating a New IT Problem  alternative text   \n",
      "197  Troubleshooting Issues with a Slow-Performing ...  alternative text   \n",
      "198  Setting Up a Secure Connection to a Company-Is...  alternative text   \n",
      "199            Resetting a Forgotten Network Username.  alternative text   \n",
      "\n",
      "                                                  text  \n",
      "0    **Setting Up a Mobile Device for Company Email...  \n",
      "1    **Resetting a Forgotten PIN**\\n\\nIf you have f...  \n",
      "2    **Configuring VPN Access for Remote Workers**\\...  \n",
      "3    **Troubleshooting Issues with Microsoft Office...  \n",
      "4    To set up a conference call on Cisco Webex, fo...  \n",
      "..                                                 ...  \n",
      "195  To set up a new user's account in Dropbox, fol...  \n",
      "196  To create a new IT problem in Widgetco's IT se...  \n",
      "197  **Troubleshooting Issues with a Slow-Performin...  \n",
      "198  To set up a secure connection to a company-iss...  \n",
      "199  If you have forgotten your Widgetco network us...  \n",
      "\n",
      "[200 rows x 3 columns]\n"
     ]
    }
   ],
   "source": [
    "# Reshaping the dataframe to split ki_text and alt_ki_text into their own rows\n",
    "df_kis_melted = pd.melt(df_kis, id_vars=['ki_topic'], value_vars=['ki_text', 'alt_ki_text'], \n",
    "                        var_name='text_type', value_name='text')\n",
    "\n",
    "# Renaming the text_type values for better readability\n",
    "df_kis_melted['text_type'] = df_kis_melted['text_type'].replace({'ki_text': 'normal text', 'alt_ki_text': 'alternative text'})\n",
    "\n",
    "print(df_kis_melted)"
   ]
  },
  {
   "cell_type": "code",
   "execution_count": 18,
   "metadata": {},
   "outputs": [
    {
     "data": {
      "text/html": [
       "<div>\n",
       "<style scoped>\n",
       "    .dataframe tbody tr th:only-of-type {\n",
       "        vertical-align: middle;\n",
       "    }\n",
       "\n",
       "    .dataframe tbody tr th {\n",
       "        vertical-align: top;\n",
       "    }\n",
       "\n",
       "    .dataframe thead th {\n",
       "        text-align: right;\n",
       "    }\n",
       "</style>\n",
       "<table border=\"1\" class=\"dataframe\">\n",
       "  <thead>\n",
       "    <tr style=\"text-align: right;\">\n",
       "      <th></th>\n",
       "      <th>ki_topic</th>\n",
       "      <th>text_type</th>\n",
       "      <th>text</th>\n",
       "    </tr>\n",
       "  </thead>\n",
       "  <tbody>\n",
       "    <tr>\n",
       "      <th>0</th>\n",
       "      <td>Setting Up a Mobile Device for Company Email</td>\n",
       "      <td>normal text</td>\n",
       "      <td>**Setting Up a Mobile Device for Company Email...</td>\n",
       "    </tr>\n",
       "    <tr>\n",
       "      <th>1</th>\n",
       "      <td>Resetting a Forgotten PIN</td>\n",
       "      <td>normal text</td>\n",
       "      <td>**Resetting a Forgotten PIN**\\n\\nIf you have f...</td>\n",
       "    </tr>\n",
       "    <tr>\n",
       "      <th>2</th>\n",
       "      <td>Configuring VPN Access for Remote Workers</td>\n",
       "      <td>normal text</td>\n",
       "      <td>**Configuring VPN Access for Remote Workers**\\...</td>\n",
       "    </tr>\n",
       "    <tr>\n",
       "      <th>3</th>\n",
       "      <td>Troubleshooting Issues with Microsoft Office</td>\n",
       "      <td>normal text</td>\n",
       "      <td>**Troubleshooting Issues with Microsoft Office...</td>\n",
       "    </tr>\n",
       "    <tr>\n",
       "      <th>4</th>\n",
       "      <td>Setting Up a Conference Call on Cisco Webex</td>\n",
       "      <td>normal text</td>\n",
       "      <td>To set up a conference call on Cisco Webex, fo...</td>\n",
       "    </tr>\n",
       "    <tr>\n",
       "      <th>...</th>\n",
       "      <td>...</td>\n",
       "      <td>...</td>\n",
       "      <td>...</td>\n",
       "    </tr>\n",
       "    <tr>\n",
       "      <th>195</th>\n",
       "      <td>Setting Up a New User's Account in Dropbox</td>\n",
       "      <td>alternative text</td>\n",
       "      <td>To set up a new user's account in Dropbox, fol...</td>\n",
       "    </tr>\n",
       "    <tr>\n",
       "      <th>196</th>\n",
       "      <td>Creating a New IT Problem</td>\n",
       "      <td>alternative text</td>\n",
       "      <td>To create a new IT problem in Widgetco's IT se...</td>\n",
       "    </tr>\n",
       "    <tr>\n",
       "      <th>197</th>\n",
       "      <td>Troubleshooting Issues with a Slow-Performing ...</td>\n",
       "      <td>alternative text</td>\n",
       "      <td>**Troubleshooting Issues with a Slow-Performin...</td>\n",
       "    </tr>\n",
       "    <tr>\n",
       "      <th>198</th>\n",
       "      <td>Setting Up a Secure Connection to a Company-Is...</td>\n",
       "      <td>alternative text</td>\n",
       "      <td>To set up a secure connection to a company-iss...</td>\n",
       "    </tr>\n",
       "    <tr>\n",
       "      <th>199</th>\n",
       "      <td>Resetting a Forgotten Network Username.</td>\n",
       "      <td>alternative text</td>\n",
       "      <td>If you have forgotten your Widgetco network us...</td>\n",
       "    </tr>\n",
       "  </tbody>\n",
       "</table>\n",
       "<p>200 rows × 3 columns</p>\n",
       "</div>"
      ],
      "text/plain": [
       "                                              ki_topic         text_type  \\\n",
       "0         Setting Up a Mobile Device for Company Email       normal text   \n",
       "1                            Resetting a Forgotten PIN       normal text   \n",
       "2            Configuring VPN Access for Remote Workers       normal text   \n",
       "3         Troubleshooting Issues with Microsoft Office       normal text   \n",
       "4          Setting Up a Conference Call on Cisco Webex       normal text   \n",
       "..                                                 ...               ...   \n",
       "195         Setting Up a New User's Account in Dropbox  alternative text   \n",
       "196                          Creating a New IT Problem  alternative text   \n",
       "197  Troubleshooting Issues with a Slow-Performing ...  alternative text   \n",
       "198  Setting Up a Secure Connection to a Company-Is...  alternative text   \n",
       "199            Resetting a Forgotten Network Username.  alternative text   \n",
       "\n",
       "                                                  text  \n",
       "0    **Setting Up a Mobile Device for Company Email...  \n",
       "1    **Resetting a Forgotten PIN**\\n\\nIf you have f...  \n",
       "2    **Configuring VPN Access for Remote Workers**\\...  \n",
       "3    **Troubleshooting Issues with Microsoft Office...  \n",
       "4    To set up a conference call on Cisco Webex, fo...  \n",
       "..                                                 ...  \n",
       "195  To set up a new user's account in Dropbox, fol...  \n",
       "196  To create a new IT problem in Widgetco's IT se...  \n",
       "197  **Troubleshooting Issues with a Slow-Performin...  \n",
       "198  To set up a secure connection to a company-iss...  \n",
       "199  If you have forgotten your Widgetco network us...  \n",
       "\n",
       "[200 rows x 3 columns]"
      ]
     },
     "execution_count": 18,
     "metadata": {},
     "output_type": "execute_result"
    }
   ],
   "source": [
    "df_kis_melted"
   ]
  },
  {
   "cell_type": "code",
   "execution_count": 20,
   "metadata": {},
   "outputs": [],
   "source": [
    "# Loading the documents\n",
    "documents = DataFrameLoader(df_kis_melted, page_content_column = 'text').load()"
   ]
  },
  {
   "cell_type": "code",
   "execution_count": 22,
   "metadata": {},
   "outputs": [
    {
     "data": {
      "text/plain": [
       "200"
      ]
     },
     "execution_count": 22,
     "metadata": {},
     "output_type": "execute_result"
    }
   ],
   "source": [
    "len(documents)"
   ]
  },
  {
   "cell_type": "code",
   "execution_count": 24,
   "metadata": {},
   "outputs": [],
   "source": [
    "# Creating FAISS index for the current chunk size\n",
    "faiss_index = FAISS.from_documents(documents, embedding_model)"
   ]
  },
  {
   "cell_type": "code",
   "execution_count": 30,
   "metadata": {},
   "outputs": [],
   "source": [
    "# Creating a retriever from the FAISS index\n",
    "retriever = faiss_index.as_retriever(search_kwargs = {'k': 5})"
   ]
  },
  {
   "cell_type": "code",
   "execution_count": 31,
   "metadata": {},
   "outputs": [],
   "source": [
    "# Defining the input query\n",
    "input_query = 'How do I set up my company email on my mobile device?'\n",
    "\n",
    "# Retrieving the most relevant documents\n",
    "relevant_documents = retriever.invoke(input_query)"
   ]
  },
  {
   "cell_type": "code",
   "execution_count": 32,
   "metadata": {},
   "outputs": [
    {
     "data": {
      "text/plain": [
       "[Document(metadata={'ki_topic': 'Setting Up a Mobile Device for Company Email', 'text_type': 'normal text'}, page_content='**Setting Up a Mobile Device for Company Email**\\n\\n**Prerequisites:**\\n\\n* Mobile device with a supported operating system (iOS, Android, or Windows)\\n* Company email account credentials\\n* Mobile device management (MDM) profile installed (if required by company policy)\\n\\n**Step 1: Ensure Mobile Device Management (MDM) Profile is Installed (if required)**\\n\\nIf your company requires MDM for mobile devices, ensure that the profile is installed on your device. This profile will allow your device to connect to the company network and access company email. If you are unsure whether MDM is required, contact your IT department for assistance.\\n\\n**Step 2: Set Up Email Account on Mobile Device**\\n\\n1. Go to the Settings app on your mobile device.\\n2. Select \"Mail\" or \"Email\" (depending on your device\\'s operating system).\\n3. Tap \"Add Account\" or \"Create a new account\".\\n4. Select \"Exchange\" or \"Corporate\" as the account type.\\n5. Enter your company email address and password.\\n6. If prompted, enter the company\\'s email server address (e.g., mail.company.com).\\n7. Select the desired synchronization options (e.g., sync email, contacts, calendar).\\n\\n**Step 3: Configure Email Settings**\\n\\n1. In the email account settings, select the \"Advanced\" or \"Security\" option.\\n2. Ensure that the \"Use SSL/TLS\" or \"Use secure connection\" option is enabled.\\n3. Set the authentication method to \"Username and Password\" or \"Domain\\\\Username\".\\n4. If prompted, enter your company\\'s email domain (e.g., company.com).\\n\\n**Step 4: Verify Email Account**\\n\\n1. Wait for the email account to synchronize with the company email server.\\n2. Send a test email to yourself or a colleague to verify that email is sending and receiving correctly.\\n\\n**Troubleshooting Tips:**\\n\\n* If you encounter issues setting up your email account, ensure that your device has a stable internet connection and that your email credentials are correct.\\n* If you are unable to connect to the company email server, contact your IT department for assistance.\\n* If you experience issues with email synchronization, try restarting your device or checking the email account settings.\\n\\n**Additional Information:**\\n\\n* For security reasons, it is recommended to set up a password or PIN lock on your mobile device.\\n* Company email policies may require additional security measures, such as encryption or two-factor authentication. Contact your IT department for more information.\\n* If you need further assistance or have questions about company email policies, contact your IT department or refer to the company\\'s email policy documentation.'),\n",
       " Document(metadata={'ki_topic': 'Setting Up a Mobile Device for Company Email', 'text_type': 'alternative text'}, page_content='To set up a mobile device for company email, follow these steps:\\n\\n**Step 1: Ensure Your Device is Compatible**\\n\\nBefore setting up your mobile device for company email, ensure it meets Widgetco\\'s minimum requirements. Currently, we support devices running iOS 12 or later, and Android 10 or later. If your device does not meet these requirements, you may need to upgrade or use an alternative device.\\n\\n**Step 2: Enable Encryption**\\n\\nTo access company email on your mobile device, you must enable encryption. On iOS devices, go to Settings > Face ID/Touch ID & Passcode and toggle on \"Turn Passcode On.\" On Android devices, go to Settings > Security > Screen lock and set up a PIN, pattern, or password.\\n\\n**Step 3: Install the Widgetco Email App**\\n\\nDownload and install the Widgetco Email app from the App Store (for iOS devices) or Google Play Store (for Android devices). You can search for \"Widgetco Email\" to find the app.\\n\\n**Step 4: Configure Email Settings**\\n\\nOpen the Widgetco Email app and tap \"Add Account.\" Enter your Widgetco email address and password. Select \"Manual Setup\" and configure the following settings:\\n\\n* Server: mail.widgetco.com\\n* Port: 993\\n* Security: SSL/TLS\\n* Username: Your Widgetco email address\\n* Password: Your Widgetco email password\\n\\n**Step 5: Authenticate with Two-Factor Authentication (2FA)**\\n\\nAfter configuring your email settings, you will be prompted to authenticate with 2FA. Enter the verification code sent to your device or use the Widgetco Authenticator app to complete the authentication process.\\n\\n**Step 6: Set Up Email Syncing**\\n\\nTo sync your email, go to the Widgetco Email app settings and toggle on \"Sync Email.\" Choose the frequency for syncing email, and select the email folders you want to sync.\\n\\n**Step 7: Test Your Email Connection**\\n\\nCompose a test email to yourself to ensure your email connection is working correctly. If you encounter any issues, contact the Widgetco IT Helpdesk for assistance.\\n\\n**Additional Tips:**\\n\\n* To access company email on your mobile device, you must have a stable internet connection.\\n* Ensure your device is running the latest operating system and security updates.\\n* If you experience any issues with your mobile device email setup, contact the Widgetco IT Helpdesk for assistance.\\n\\nBy following these steps, you should be able to successfully set up your mobile device for company email. If you have any questions or need further assistance, please don\\'t hesitate to reach out to the Widgetco IT Helpdesk.'),\n",
       " Document(metadata={'ki_topic': 'Configuring Email on an Android Device', 'text_type': 'normal text'}, page_content='**Configuring Email on an Android Device**\\n\\nThis article provides step-by-step instructions on how to configure email on an Android device. Please follow the steps below to set up your email account on your Android device.\\n\\n**Prerequisites:**\\n\\n* An Android device with a valid internet connection\\n* A valid email account (company email or personal email)\\n* Email account credentials (username and password)\\n\\n**Step 1: Go to the Email App**\\n\\n* Locate the Email app on your Android device. It may be on the home screen or in the app drawer.\\n* Tap on the Email app to open it.\\n\\n**Step 2: Add a New Account**\\n\\n* Tap on the \"Add account\" or \"Add email account\" button.\\n* Select \"Email\" or \"Corporate\" as the account type, depending on your email provider.\\n* Enter your email address and password in the required fields.\\n* Tap \"Next\" to proceed.\\n\\n**Step 3: Configure Server Settings**\\n\\n* The device will attempt to automatically configure the server settings. If it fails, you will need to enter the settings manually.\\n* Tap on \"Manual setup\" or \"Advanced setup\" to enter the server settings manually.\\n* Enter the following information:\\n\\t+ Incoming server: [company email server or personal email server]\\n\\t+ Port: [company email port or personal email port]\\n\\t+ Security type: [company email security type or personal email security type]\\n\\t+ Username: [your email address]\\n\\t+ Password: [your email password]\\n* Tap \"Next\" to proceed.\\n\\n**Step 4: Configure Outgoing Server Settings**\\n\\n* Enter the following information:\\n\\t+ Outgoing server: [company email server or personal email server]\\n\\t+ Port: [company email port or personal email port]\\n\\t+ Security type: [company email security type or personal email security type]\\n\\t+ Username: [your email address]\\n\\t+ Password: [your email password]\\n* Tap \"Next\" to proceed.\\n\\n**Step 5: Account Options**\\n\\n* You may be prompted to configure additional account options, such as:\\n\\t+ Sync frequency: Choose how often you want your device to sync with the email server.\\n\\t+ Sync size: Choose the maximum size of emails to sync.\\n\\t+ Delete email from server: Choose whether to delete emails from the server after syncing.\\n* Tap \"Next\" to proceed.\\n\\n**Step 6: Account Setup Complete**\\n\\n* You will be prompted to give your account a name and set it as the default account.\\n* Tap \"Done\" to complete the setup.\\n\\n**Troubleshooting Tips:**\\n\\n* If you encounter any issues during the setup process, try restarting the Email app or your device.\\n* Ensure that your email account credentials are correct and that your internet connection is stable.\\n* If you are still experiencing issues, contact the IT helpdesk for further assistance.\\n\\nBy following these steps, you should be able to successfully configure email on your Android device.'),\n",
       " Document(metadata={'ki_topic': 'Configuring a Company-Issued Smartphone', 'text_type': 'normal text'}, page_content=\"**Configuring a Company-Issued Smartphone**\\n\\n**Step 1: Activate Your Smartphone**\\n\\nUpon receiving your company-issued smartphone, ensure it is fully charged and turned off. Insert the SIM card provided by the IT department into the phone's SIM card slot. Turn on the phone and follow the on-screen instructions to complete the initial setup.\\n\\n**Step 2: Connect to the Company Network**\\n\\nOnce the phone is activated, connect to the company Wi-Fi network by going to **Settings** > **Wi-Fi** and selecting the company network from the list of available networks. Enter the network password provided by the IT department.\\n\\n**Step 3: Install Required Company Apps**\\n\\nDownload and install the following company-approved apps from the app store:\\n\\n* Company Email (for email access)\\n* Company VPN (for secure remote access)\\n* MobileIron (for device management and security)\\n\\n**Step 4: Configure Email**\\n\\nOpen the Company Email app and follow the on-screen instructions to set up your email account. Use your company login credentials to authenticate. Ensure that your email account is set to sync with the company email server.\\n\\n**Step 5: Enroll in MobileIron**\\n\\nOpen the MobileIron app and follow the on-screen instructions to enroll your device. This will allow the IT department to manage and secure your device remotely. You will be prompted to accept the company's mobile device management policy.\\n\\n**Step 6: Configure VPN**\\n\\nOpen the Company VPN app and follow the on-screen instructions to set up your VPN connection. Use your company login credentials to authenticate. Ensure that your VPN connection is set to connect automatically when you are outside the company network.\\n\\n**Step 7: Set Up Security Features**\\n\\nGo to **Settings** > **Security** and enable the following features:\\n\\n* Screen lock (set a PIN or password to lock your screen)\\n* Encryption (enable encryption to protect company data)\\n* Remote wipe (allow the IT department to remotely wipe your device in case it is lost or stolen)\\n\\n**Step 8: Test Your Configuration**\\n\\nTest your email, VPN, and internet connectivity to ensure that your device is configured correctly. If you encounter any issues, contact the IT helpdesk for assistance.\\n\\n**Additional Tips**\\n\\n* Regularly update your device's operating system and installed apps to ensure you have the latest security patches and features.\\n* Use a secure password or PIN to lock your screen and protect company data.\\n* Avoid installing unauthorized apps or accessing untrusted websites to minimize the risk of malware infections.\\n\\nBy following these steps, you will be able to configure your company-issued smartphone for secure and productive use. If you have any questions or concerns, please contact the IT helpdesk for assistance.\"),\n",
       " Document(metadata={'ki_topic': 'Configuring Email on an Android Device', 'text_type': 'alternative text'}, page_content='To configure email on an Android device for use with Widgetco\\'s email system, follow these steps:\\n\\n**Step 1: Enable Email on the Android Device**\\n\\n1. Go to the Android device\\'s home screen and tap on the \"Email\" or \"Mail\" app.\\n2. Tap on the \"Menu\" button and select \"Settings\" or \"Accounts\".\\n3. Tap on \"Add account\" or \"Create a new account\".\\n\\n**Step 2: Enter Widgetco Email Account Information**\\n\\n1. Select \"Corporate\" or \"Exchange\" as the account type.\\n2. Enter your Widgetco email address in the format \"username@widgetco.com\".\\n3. Enter your Widgetco network password in the \"Password\" field.\\n4. Tap \"Next\" to continue.\\n\\n**Step 3: Configure Server Settings**\\n\\n1. Select \"Manual setup\" or \"Advanced\" to enter server settings manually.\\n2. Enter the following server settings:\\n\\t* Server: outlook.widgetco.com\\n\\t* Port: 443\\n\\t* Security type: SSL/TLS\\n\\t* Username: Your Widgetco network username (without the @widgetco.com)\\n3. Tap \"Next\" to continue.\\n\\n**Step 4: Configure Account Options**\\n\\n1. Select the account options you prefer, such as how often to sync email, and whether to sync contacts and calendar.\\n2. Tap \"Next\" to continue.\\n\\n**Step 5: Verify Account Settings**\\n\\n1. Review the account settings to ensure they are correct.\\n2. Tap \"Finish\" or \"Done\" to complete the setup.\\n\\n**Troubleshooting Tips**\\n\\n* If you encounter issues with sending or receiving email, ensure that your Android device is connected to the Widgetco network or a secure internet connection.\\n* If you are prompted to accept a security certificate, tap \"Accept\" to continue.\\n* If you encounter issues with email synchronization, try restarting the Email app or the Android device.\\n\\nBy following these steps, you should be able to successfully configure email on your Android device for use with Widgetco\\'s email system. If you encounter any issues or have further questions, please contact the Widgetco IT Helpdesk for assistance.')]"
      ]
     },
     "execution_count": 32,
     "metadata": {},
     "output_type": "execute_result"
    }
   ],
   "source": [
    "relevant_documents"
   ]
  },
  {
   "cell_type": "code",
   "execution_count": null,
   "metadata": {},
   "outputs": [],
   "source": []
  }
 ],
 "metadata": {
  "kernelspec": {
   "display_name": "Python 3",
   "language": "python",
   "name": "python3"
  },
  "language_info": {
   "codemirror_mode": {
    "name": "ipython",
    "version": 3
   },
   "file_extension": ".py",
   "mimetype": "text/x-python",
   "name": "python",
   "nbconvert_exporter": "python",
   "pygments_lexer": "ipython3",
   "version": "3.11.10"
  }
 },
 "nbformat": 4,
 "nbformat_minor": 2
}
